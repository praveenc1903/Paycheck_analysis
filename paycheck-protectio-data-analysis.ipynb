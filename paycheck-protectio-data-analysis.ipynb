{
 "cells": [
  {
   "cell_type": "markdown",
   "id": "812f58b7",
   "metadata": {
    "papermill": {
     "duration": 0.010186,
     "end_time": "2024-12-21T10:54:44.791215",
     "exception": false,
     "start_time": "2024-12-21T10:54:44.781029",
     "status": "completed"
    },
    "tags": []
   },
   "source": [
    "# Paycheck Protection Program\n",
    "\n",
    "The Paycheck Protection Program (PPP) is a $953-billion business loan program established by the United States federal government, led by the Donald Trump administration in 2020 through the Coronavirus Aid, Relief, and Economic Security Act (CARES Act) to help certain businesses, self-employed workers, sole proprietors, certain nonprofit organizations, and tribal businesses continue paying their workers.\n",
    "\n",
    "The Paycheck Protection Program allows entities to apply for low-interest private loans to pay for their payroll and certain other costs. The amount of a PPP loan is approximately equal to 2.5 times the applicant's average monthly payroll costs. In some cases, an applicant may receive a second draw typically equal to the first. The loan proceeds may be used to cover payroll costs, rent, interest, and utilities. The loan may be partially or fully forgiven if the business keeps its employee counts and employee wages stable. The program is implemented by the U.S. Small Business Administration. "
   ]
  },
  {
   "cell_type": "markdown",
   "id": "32d3a08b",
   "metadata": {
    "papermill": {
     "duration": 0.00823,
     "end_time": "2024-12-21T10:54:44.808357",
     "exception": false,
     "start_time": "2024-12-21T10:54:44.800127",
     "status": "completed"
    },
    "tags": []
   },
   "source": [
    "# Objective\n",
    "\n",
    "Performing EDA - Exploratory Data Analysis on the Data(using any necessary data wrangling/preparation steps) and create professional visualizations to share."
   ]
  },
  {
   "cell_type": "markdown",
   "id": "9a35192a",
   "metadata": {
    "papermill": {
     "duration": 0.008189,
     "end_time": "2024-12-21T10:54:44.825057",
     "exception": false,
     "start_time": "2024-12-21T10:54:44.816868",
     "status": "completed"
    },
    "tags": []
   },
   "source": [
    "# Loading and Wrangling Data"
   ]
  },
  {
   "cell_type": "code",
   "execution_count": 1,
   "id": "3887b52c",
   "metadata": {
    "execution": {
     "iopub.execute_input": "2024-12-21T10:54:44.843647Z",
     "iopub.status.busy": "2024-12-21T10:54:44.843175Z",
     "iopub.status.idle": "2024-12-21T10:54:46.928273Z",
     "shell.execute_reply": "2024-12-21T10:54:46.927383Z"
    },
    "papermill": {
     "duration": 2.097356,
     "end_time": "2024-12-21T10:54:46.930820",
     "exception": false,
     "start_time": "2024-12-21T10:54:44.833464",
     "status": "completed"
    },
    "tags": []
   },
   "outputs": [],
   "source": [
    "# Loading all the packages needed for the analysis\n",
    "import pandas as pd #pandas for data wrangling/preparation\n",
    "import missingno as msno #Python library for the exploratory visualization of missing data\n",
    "import matplotlib.pyplot as plt #library for matplotlib visualization\n",
    "import matplotlib.dates as mdates #for time series plot\n",
    "import seaborn as sns #library for seaborn visualization\n",
    "sns.set(font_scale = 1.2, style = 'ticks')\n",
    "import plotly.express as px #library for plotly visualization\n",
    "from pylab import rcParams \n",
    "rcParams['figure.figsize'] = 10,8 "
   ]
  },
  {
   "cell_type": "code",
   "execution_count": 2,
   "id": "09c941b5",
   "metadata": {
    "execution": {
     "iopub.execute_input": "2024-12-21T10:54:46.950498Z",
     "iopub.status.busy": "2024-12-21T10:54:46.949624Z",
     "iopub.status.idle": "2024-12-21T10:55:02.667818Z",
     "shell.execute_reply": "2024-12-21T10:55:02.666852Z"
    },
    "papermill": {
     "duration": 15.730493,
     "end_time": "2024-12-21T10:55:02.670247",
     "exception": false,
     "start_time": "2024-12-21T10:54:46.939754",
     "status": "completed"
    },
    "tags": []
   },
   "outputs": [],
   "source": [
    "# Reading the data \n",
    "# Data is from the official website, which I have uploaded in the kaggle Dataset URL: https://www.kaggle.com/datasets/johnp47/paycheck-protection-programppp-foia\n",
    "ppp_df = pd.read_csv('../input/paycheck-protection-programppp-foia/public_150k_plus_220403.csv')"
   ]
  },
  {
   "cell_type": "code",
   "execution_count": 3,
   "id": "7015f11a",
   "metadata": {
    "execution": {
     "iopub.execute_input": "2024-12-21T10:55:02.690314Z",
     "iopub.status.busy": "2024-12-21T10:55:02.689885Z",
     "iopub.status.idle": "2024-12-21T10:55:02.730926Z",
     "shell.execute_reply": "2024-12-21T10:55:02.729937Z"
    },
    "papermill": {
     "duration": 0.054212,
     "end_time": "2024-12-21T10:55:02.733979",
     "exception": false,
     "start_time": "2024-12-21T10:55:02.679767",
     "status": "completed"
    },
    "tags": []
   },
   "outputs": [
    {
     "data": {
      "text/html": [
       "<div>\n",
       "<style scoped>\n",
       "    .dataframe tbody tr th:only-of-type {\n",
       "        vertical-align: middle;\n",
       "    }\n",
       "\n",
       "    .dataframe tbody tr th {\n",
       "        vertical-align: top;\n",
       "    }\n",
       "\n",
       "    .dataframe thead th {\n",
       "        text-align: right;\n",
       "    }\n",
       "</style>\n",
       "<table border=\"1\" class=\"dataframe\">\n",
       "  <thead>\n",
       "    <tr style=\"text-align: right;\">\n",
       "      <th></th>\n",
       "      <th>LoanNumber</th>\n",
       "      <th>DateApproved</th>\n",
       "      <th>SBAOfficeCode</th>\n",
       "      <th>ProcessingMethod</th>\n",
       "      <th>BorrowerName</th>\n",
       "      <th>BorrowerAddress</th>\n",
       "      <th>BorrowerCity</th>\n",
       "      <th>BorrowerState</th>\n",
       "      <th>BorrowerZip</th>\n",
       "      <th>LoanStatusDate</th>\n",
       "      <th>...</th>\n",
       "      <th>BusinessType</th>\n",
       "      <th>OriginatingLenderLocationID</th>\n",
       "      <th>OriginatingLender</th>\n",
       "      <th>OriginatingLenderCity</th>\n",
       "      <th>OriginatingLenderState</th>\n",
       "      <th>Gender</th>\n",
       "      <th>Veteran</th>\n",
       "      <th>NonProfit</th>\n",
       "      <th>ForgivenessAmount</th>\n",
       "      <th>ForgivenessDate</th>\n",
       "    </tr>\n",
       "  </thead>\n",
       "  <tbody>\n",
       "    <tr>\n",
       "      <th>0</th>\n",
       "      <td>9547507704</td>\n",
       "      <td>05/01/2020</td>\n",
       "      <td>464</td>\n",
       "      <td>PPP</td>\n",
       "      <td>SUMTER COATINGS, INC.</td>\n",
       "      <td>2410 Highway 15 South</td>\n",
       "      <td>Sumter</td>\n",
       "      <td>NaN</td>\n",
       "      <td>29150-9662</td>\n",
       "      <td>12/18/2020</td>\n",
       "      <td>...</td>\n",
       "      <td>Corporation</td>\n",
       "      <td>19248</td>\n",
       "      <td>Synovus Bank</td>\n",
       "      <td>COLUMBUS</td>\n",
       "      <td>GA</td>\n",
       "      <td>Unanswered</td>\n",
       "      <td>Unanswered</td>\n",
       "      <td>NaN</td>\n",
       "      <td>773553.37</td>\n",
       "      <td>11/20/2020</td>\n",
       "    </tr>\n",
       "    <tr>\n",
       "      <th>1</th>\n",
       "      <td>9777677704</td>\n",
       "      <td>05/01/2020</td>\n",
       "      <td>464</td>\n",
       "      <td>PPP</td>\n",
       "      <td>PLEASANT PLACES, INC.</td>\n",
       "      <td>7684 Southrail Road</td>\n",
       "      <td>North Charleston</td>\n",
       "      <td>NaN</td>\n",
       "      <td>29420-9000</td>\n",
       "      <td>09/28/2021</td>\n",
       "      <td>...</td>\n",
       "      <td>Sole Proprietorship</td>\n",
       "      <td>19248</td>\n",
       "      <td>Synovus Bank</td>\n",
       "      <td>COLUMBUS</td>\n",
       "      <td>GA</td>\n",
       "      <td>Male Owned</td>\n",
       "      <td>Non-Veteran</td>\n",
       "      <td>NaN</td>\n",
       "      <td>746336.24</td>\n",
       "      <td>08/12/2021</td>\n",
       "    </tr>\n",
       "    <tr>\n",
       "      <th>2</th>\n",
       "      <td>5791407702</td>\n",
       "      <td>05/01/2020</td>\n",
       "      <td>1013</td>\n",
       "      <td>PPP</td>\n",
       "      <td>BOYER CHILDREN'S CLINIC</td>\n",
       "      <td>1850 BOYER AVE E</td>\n",
       "      <td>SEATTLE</td>\n",
       "      <td>NaN</td>\n",
       "      <td>98112-2922</td>\n",
       "      <td>03/17/2021</td>\n",
       "      <td>...</td>\n",
       "      <td>Non-Profit Organization</td>\n",
       "      <td>9551</td>\n",
       "      <td>Bank of America, National Association</td>\n",
       "      <td>CHARLOTTE</td>\n",
       "      <td>NC</td>\n",
       "      <td>Unanswered</td>\n",
       "      <td>Unanswered</td>\n",
       "      <td>Y</td>\n",
       "      <td>696677.49</td>\n",
       "      <td>02/10/2021</td>\n",
       "    </tr>\n",
       "    <tr>\n",
       "      <th>3</th>\n",
       "      <td>6223567700</td>\n",
       "      <td>05/01/2020</td>\n",
       "      <td>920</td>\n",
       "      <td>PPP</td>\n",
       "      <td>KIRTLEY CONSTRUCTION INC</td>\n",
       "      <td>1661 MARTIN RANCH RD</td>\n",
       "      <td>SAN BERNARDINO</td>\n",
       "      <td>NaN</td>\n",
       "      <td>92407-1740</td>\n",
       "      <td>10/16/2021</td>\n",
       "      <td>...</td>\n",
       "      <td>Corporation</td>\n",
       "      <td>9551</td>\n",
       "      <td>Bank of America, National Association</td>\n",
       "      <td>CHARLOTTE</td>\n",
       "      <td>NC</td>\n",
       "      <td>Male Owned</td>\n",
       "      <td>Non-Veteran</td>\n",
       "      <td>NaN</td>\n",
       "      <td>395264.11</td>\n",
       "      <td>09/10/2021</td>\n",
       "    </tr>\n",
       "    <tr>\n",
       "      <th>4</th>\n",
       "      <td>9662437702</td>\n",
       "      <td>05/01/2020</td>\n",
       "      <td>101</td>\n",
       "      <td>PPP</td>\n",
       "      <td>AERO BOX LLC</td>\n",
       "      <td>NaN</td>\n",
       "      <td>NaN</td>\n",
       "      <td>NaN</td>\n",
       "      <td>NaN</td>\n",
       "      <td>08/17/2021</td>\n",
       "      <td>...</td>\n",
       "      <td>NaN</td>\n",
       "      <td>57328</td>\n",
       "      <td>The Huntington National Bank</td>\n",
       "      <td>COLUMBUS</td>\n",
       "      <td>OH</td>\n",
       "      <td>Unanswered</td>\n",
       "      <td>Unanswered</td>\n",
       "      <td>NaN</td>\n",
       "      <td>370819.35</td>\n",
       "      <td>04/08/2021</td>\n",
       "    </tr>\n",
       "    <tr>\n",
       "      <th>5</th>\n",
       "      <td>9774337701</td>\n",
       "      <td>05/01/2020</td>\n",
       "      <td>101</td>\n",
       "      <td>PPP</td>\n",
       "      <td>HUDSON EXTRUSIONS INC.</td>\n",
       "      <td>NaN</td>\n",
       "      <td>NaN</td>\n",
       "      <td>NaN</td>\n",
       "      <td>NaN</td>\n",
       "      <td>11/17/2021</td>\n",
       "      <td>...</td>\n",
       "      <td>NaN</td>\n",
       "      <td>57328</td>\n",
       "      <td>The Huntington National Bank</td>\n",
       "      <td>COLUMBUS</td>\n",
       "      <td>OH</td>\n",
       "      <td>Unanswered</td>\n",
       "      <td>Unanswered</td>\n",
       "      <td>NaN</td>\n",
       "      <td>332137.41</td>\n",
       "      <td>05/10/2021</td>\n",
       "    </tr>\n",
       "    <tr>\n",
       "      <th>6</th>\n",
       "      <td>9794577700</td>\n",
       "      <td>05/01/2020</td>\n",
       "      <td>491</td>\n",
       "      <td>PPP</td>\n",
       "      <td>FRUIT COVE BAPTIST CHURCH OF JACKSONVILLE FL INC</td>\n",
       "      <td>501 State Road 13</td>\n",
       "      <td>Saint Johns</td>\n",
       "      <td>NaN</td>\n",
       "      <td>32259-2832</td>\n",
       "      <td>02/19/2021</td>\n",
       "      <td>...</td>\n",
       "      <td>Non-Profit Organization</td>\n",
       "      <td>19248</td>\n",
       "      <td>Synovus Bank</td>\n",
       "      <td>COLUMBUS</td>\n",
       "      <td>GA</td>\n",
       "      <td>Unanswered</td>\n",
       "      <td>Unanswered</td>\n",
       "      <td>Y</td>\n",
       "      <td>291741.75</td>\n",
       "      <td>01/07/2021</td>\n",
       "    </tr>\n",
       "    <tr>\n",
       "      <th>7</th>\n",
       "      <td>9722187702</td>\n",
       "      <td>05/01/2020</td>\n",
       "      <td>101</td>\n",
       "      <td>PPP</td>\n",
       "      <td>MIAMITOWN AUTO PARTS AND RECYCLING INC</td>\n",
       "      <td>NaN</td>\n",
       "      <td>NaN</td>\n",
       "      <td>NaN</td>\n",
       "      <td>NaN</td>\n",
       "      <td>02/24/2021</td>\n",
       "      <td>...</td>\n",
       "      <td>Corporation</td>\n",
       "      <td>57328</td>\n",
       "      <td>The Huntington National Bank</td>\n",
       "      <td>COLUMBUS</td>\n",
       "      <td>OH</td>\n",
       "      <td>Unanswered</td>\n",
       "      <td>Unanswered</td>\n",
       "      <td>NaN</td>\n",
       "      <td>269416.44</td>\n",
       "      <td>01/25/2021</td>\n",
       "    </tr>\n",
       "    <tr>\n",
       "      <th>8</th>\n",
       "      <td>9725917702</td>\n",
       "      <td>05/01/2020</td>\n",
       "      <td>101</td>\n",
       "      <td>PPP</td>\n",
       "      <td>POPPYCOCKS INC</td>\n",
       "      <td>NaN</td>\n",
       "      <td>NaN</td>\n",
       "      <td>NaN</td>\n",
       "      <td>NaN</td>\n",
       "      <td>08/17/2021</td>\n",
       "      <td>...</td>\n",
       "      <td>Subchapter S Corporation</td>\n",
       "      <td>57328</td>\n",
       "      <td>The Huntington National Bank</td>\n",
       "      <td>COLUMBUS</td>\n",
       "      <td>OH</td>\n",
       "      <td>Unanswered</td>\n",
       "      <td>Unanswered</td>\n",
       "      <td>NaN</td>\n",
       "      <td>259982.88</td>\n",
       "      <td>06/24/2021</td>\n",
       "    </tr>\n",
       "    <tr>\n",
       "      <th>9</th>\n",
       "      <td>9666867710</td>\n",
       "      <td>05/01/2020</td>\n",
       "      <td>101</td>\n",
       "      <td>PPP</td>\n",
       "      <td>CHURCH SQUARE PHARMACY INC</td>\n",
       "      <td>NaN</td>\n",
       "      <td>NaN</td>\n",
       "      <td>NaN</td>\n",
       "      <td>NaN</td>\n",
       "      <td>04/21/2021</td>\n",
       "      <td>...</td>\n",
       "      <td>Corporation</td>\n",
       "      <td>57328</td>\n",
       "      <td>The Huntington National Bank</td>\n",
       "      <td>COLUMBUS</td>\n",
       "      <td>OH</td>\n",
       "      <td>Unanswered</td>\n",
       "      <td>Unanswered</td>\n",
       "      <td>NaN</td>\n",
       "      <td>252253.42</td>\n",
       "      <td>03/31/2021</td>\n",
       "    </tr>\n",
       "  </tbody>\n",
       "</table>\n",
       "<p>10 rows × 53 columns</p>\n",
       "</div>"
      ],
      "text/plain": [
       "   LoanNumber DateApproved  SBAOfficeCode ProcessingMethod  \\\n",
       "0  9547507704   05/01/2020            464              PPP   \n",
       "1  9777677704   05/01/2020            464              PPP   \n",
       "2  5791407702   05/01/2020           1013              PPP   \n",
       "3  6223567700   05/01/2020            920              PPP   \n",
       "4  9662437702   05/01/2020            101              PPP   \n",
       "5  9774337701   05/01/2020            101              PPP   \n",
       "6  9794577700   05/01/2020            491              PPP   \n",
       "7  9722187702   05/01/2020            101              PPP   \n",
       "8  9725917702   05/01/2020            101              PPP   \n",
       "9  9666867710   05/01/2020            101              PPP   \n",
       "\n",
       "                                       BorrowerName        BorrowerAddress  \\\n",
       "0                             SUMTER COATINGS, INC.  2410 Highway 15 South   \n",
       "1                             PLEASANT PLACES, INC.    7684 Southrail Road   \n",
       "2                           BOYER CHILDREN'S CLINIC       1850 BOYER AVE E   \n",
       "3                          KIRTLEY CONSTRUCTION INC   1661 MARTIN RANCH RD   \n",
       "4                                      AERO BOX LLC                    NaN   \n",
       "5                            HUDSON EXTRUSIONS INC.                    NaN   \n",
       "6  FRUIT COVE BAPTIST CHURCH OF JACKSONVILLE FL INC      501 State Road 13   \n",
       "7            MIAMITOWN AUTO PARTS AND RECYCLING INC                    NaN   \n",
       "8                                    POPPYCOCKS INC                    NaN   \n",
       "9                        CHURCH SQUARE PHARMACY INC                    NaN   \n",
       "\n",
       "       BorrowerCity BorrowerState BorrowerZip LoanStatusDate  ...  \\\n",
       "0            Sumter           NaN  29150-9662     12/18/2020  ...   \n",
       "1  North Charleston           NaN  29420-9000     09/28/2021  ...   \n",
       "2           SEATTLE           NaN  98112-2922     03/17/2021  ...   \n",
       "3    SAN BERNARDINO           NaN  92407-1740     10/16/2021  ...   \n",
       "4               NaN           NaN         NaN     08/17/2021  ...   \n",
       "5               NaN           NaN         NaN     11/17/2021  ...   \n",
       "6       Saint Johns           NaN  32259-2832     02/19/2021  ...   \n",
       "7               NaN           NaN         NaN     02/24/2021  ...   \n",
       "8               NaN           NaN         NaN     08/17/2021  ...   \n",
       "9               NaN           NaN         NaN     04/21/2021  ...   \n",
       "\n",
       "               BusinessType  OriginatingLenderLocationID  \\\n",
       "0               Corporation                        19248   \n",
       "1       Sole Proprietorship                        19248   \n",
       "2   Non-Profit Organization                         9551   \n",
       "3               Corporation                         9551   \n",
       "4                       NaN                        57328   \n",
       "5                       NaN                        57328   \n",
       "6   Non-Profit Organization                        19248   \n",
       "7               Corporation                        57328   \n",
       "8  Subchapter S Corporation                        57328   \n",
       "9               Corporation                        57328   \n",
       "\n",
       "                       OriginatingLender  OriginatingLenderCity  \\\n",
       "0                           Synovus Bank               COLUMBUS   \n",
       "1                           Synovus Bank               COLUMBUS   \n",
       "2  Bank of America, National Association              CHARLOTTE   \n",
       "3  Bank of America, National Association              CHARLOTTE   \n",
       "4           The Huntington National Bank               COLUMBUS   \n",
       "5           The Huntington National Bank               COLUMBUS   \n",
       "6                           Synovus Bank               COLUMBUS   \n",
       "7           The Huntington National Bank               COLUMBUS   \n",
       "8           The Huntington National Bank               COLUMBUS   \n",
       "9           The Huntington National Bank               COLUMBUS   \n",
       "\n",
       "   OriginatingLenderState      Gender      Veteran  NonProfit  \\\n",
       "0                      GA  Unanswered   Unanswered        NaN   \n",
       "1                      GA  Male Owned  Non-Veteran        NaN   \n",
       "2                      NC  Unanswered   Unanswered          Y   \n",
       "3                      NC  Male Owned  Non-Veteran        NaN   \n",
       "4                      OH  Unanswered   Unanswered        NaN   \n",
       "5                      OH  Unanswered   Unanswered        NaN   \n",
       "6                      GA  Unanswered   Unanswered          Y   \n",
       "7                      OH  Unanswered   Unanswered        NaN   \n",
       "8                      OH  Unanswered   Unanswered        NaN   \n",
       "9                      OH  Unanswered   Unanswered        NaN   \n",
       "\n",
       "  ForgivenessAmount ForgivenessDate  \n",
       "0         773553.37      11/20/2020  \n",
       "1         746336.24      08/12/2021  \n",
       "2         696677.49      02/10/2021  \n",
       "3         395264.11      09/10/2021  \n",
       "4         370819.35      04/08/2021  \n",
       "5         332137.41      05/10/2021  \n",
       "6         291741.75      01/07/2021  \n",
       "7         269416.44      01/25/2021  \n",
       "8         259982.88      06/24/2021  \n",
       "9         252253.42      03/31/2021  \n",
       "\n",
       "[10 rows x 53 columns]"
      ]
     },
     "execution_count": 3,
     "metadata": {},
     "output_type": "execute_result"
    }
   ],
   "source": [
    "# Head of the dataframe\n",
    "ppp_df.head(10)"
   ]
  },
  {
   "cell_type": "code",
   "execution_count": 4,
   "id": "b1aadecd",
   "metadata": {
    "execution": {
     "iopub.execute_input": "2024-12-21T10:55:02.754559Z",
     "iopub.status.busy": "2024-12-21T10:55:02.754163Z",
     "iopub.status.idle": "2024-12-21T10:55:02.836028Z",
     "shell.execute_reply": "2024-12-21T10:55:02.835144Z"
    },
    "papermill": {
     "duration": 0.094802,
     "end_time": "2024-12-21T10:55:02.838344",
     "exception": false,
     "start_time": "2024-12-21T10:55:02.743542",
     "status": "completed"
    },
    "tags": []
   },
   "outputs": [
    {
     "data": {
      "text/plain": [
       "array([nan, 'AK', 'AL', 'AR', 'AS', 'AZ', 'CA', 'CO', 'CT', 'DC', 'DE',\n",
       "       'FL', 'GA', 'GU', 'HI', 'IA', 'ID', 'IL', 'IN', 'KS', 'KY', 'LA',\n",
       "       'MA', 'MD', 'ME', 'MI', 'MN', 'MO', 'MP', 'MS', 'MT', 'NC', 'ND',\n",
       "       'NE', 'NH', 'NJ', 'NM', 'NV', 'NY', 'OH', 'OK', 'OR', 'PA', 'PR',\n",
       "       'RI', 'SC', 'SD', 'TN', 'TX', 'UT', 'VA', 'VI', 'VT', 'WA', 'WI',\n",
       "       'WV', 'WY'], dtype=object)"
      ]
     },
     "execution_count": 4,
     "metadata": {},
     "output_type": "execute_result"
    }
   ],
   "source": [
    "ppp_df['BorrowerState'].unique()"
   ]
  },
  {
   "cell_type": "code",
   "execution_count": 5,
   "id": "af7bb445",
   "metadata": {
    "execution": {
     "iopub.execute_input": "2024-12-21T10:55:02.858367Z",
     "iopub.status.busy": "2024-12-21T10:55:02.858003Z",
     "iopub.status.idle": "2024-12-21T10:55:02.864011Z",
     "shell.execute_reply": "2024-12-21T10:55:02.863108Z"
    },
    "papermill": {
     "duration": 0.018193,
     "end_time": "2024-12-21T10:55:02.865920",
     "exception": false,
     "start_time": "2024-12-21T10:55:02.847727",
     "status": "completed"
    },
    "tags": []
   },
   "outputs": [
    {
     "data": {
      "text/plain": [
       "(968532, 53)"
      ]
     },
     "execution_count": 5,
     "metadata": {},
     "output_type": "execute_result"
    }
   ],
   "source": [
    "ppp_df.shape"
   ]
  },
  {
   "cell_type": "code",
   "execution_count": 6,
   "id": "4616e73a",
   "metadata": {
    "execution": {
     "iopub.execute_input": "2024-12-21T10:55:02.886534Z",
     "iopub.status.busy": "2024-12-21T10:55:02.886117Z",
     "iopub.status.idle": "2024-12-21T10:55:02.911978Z",
     "shell.execute_reply": "2024-12-21T10:55:02.911057Z"
    },
    "papermill": {
     "duration": 0.038356,
     "end_time": "2024-12-21T10:55:02.913781",
     "exception": false,
     "start_time": "2024-12-21T10:55:02.875425",
     "status": "completed"
    },
    "tags": []
   },
   "outputs": [
    {
     "data": {
      "text/html": [
       "<div>\n",
       "<style scoped>\n",
       "    .dataframe tbody tr th:only-of-type {\n",
       "        vertical-align: middle;\n",
       "    }\n",
       "\n",
       "    .dataframe tbody tr th {\n",
       "        vertical-align: top;\n",
       "    }\n",
       "\n",
       "    .dataframe thead th {\n",
       "        text-align: right;\n",
       "    }\n",
       "</style>\n",
       "<table border=\"1\" class=\"dataframe\">\n",
       "  <thead>\n",
       "    <tr style=\"text-align: right;\">\n",
       "      <th></th>\n",
       "      <th>LoanNumber</th>\n",
       "      <th>DateApproved</th>\n",
       "      <th>SBAOfficeCode</th>\n",
       "      <th>ProcessingMethod</th>\n",
       "      <th>BorrowerName</th>\n",
       "      <th>BorrowerAddress</th>\n",
       "      <th>BorrowerCity</th>\n",
       "      <th>BorrowerState</th>\n",
       "      <th>BorrowerZip</th>\n",
       "      <th>LoanStatusDate</th>\n",
       "      <th>...</th>\n",
       "      <th>BusinessType</th>\n",
       "      <th>OriginatingLenderLocationID</th>\n",
       "      <th>OriginatingLender</th>\n",
       "      <th>OriginatingLenderCity</th>\n",
       "      <th>OriginatingLenderState</th>\n",
       "      <th>Gender</th>\n",
       "      <th>Veteran</th>\n",
       "      <th>NonProfit</th>\n",
       "      <th>ForgivenessAmount</th>\n",
       "      <th>ForgivenessDate</th>\n",
       "    </tr>\n",
       "  </thead>\n",
       "  <tbody>\n",
       "    <tr>\n",
       "      <th>968527</th>\n",
       "      <td>4395967002</td>\n",
       "      <td>04/03/2020</td>\n",
       "      <td>897</td>\n",
       "      <td>PPP</td>\n",
       "      <td>ROY E PAULSON, JR., P.C.</td>\n",
       "      <td>102 N. Kenwood</td>\n",
       "      <td>CASPER</td>\n",
       "      <td>WY</td>\n",
       "      <td>82601-2724</td>\n",
       "      <td>01/13/2021</td>\n",
       "      <td>...</td>\n",
       "      <td>Corporation</td>\n",
       "      <td>42366</td>\n",
       "      <td>Platte Valley Bank</td>\n",
       "      <td>TORRINGTON</td>\n",
       "      <td>WY</td>\n",
       "      <td>Male Owned</td>\n",
       "      <td>Non-Veteran</td>\n",
       "      <td>NaN</td>\n",
       "      <td>151037.50</td>\n",
       "      <td>12/09/2020</td>\n",
       "    </tr>\n",
       "    <tr>\n",
       "      <th>968528</th>\n",
       "      <td>6985647108</td>\n",
       "      <td>04/14/2020</td>\n",
       "      <td>897</td>\n",
       "      <td>PPP</td>\n",
       "      <td>SWEETWATER COUNTY CHILD DEVELOPMENTAL CENTER, ...</td>\n",
       "      <td>1715 HITCHING POST DR</td>\n",
       "      <td>GREEN RIVER</td>\n",
       "      <td>WY</td>\n",
       "      <td>82935-5783</td>\n",
       "      <td>12/08/2020</td>\n",
       "      <td>...</td>\n",
       "      <td>Non-Profit Childcare Center</td>\n",
       "      <td>122813</td>\n",
       "      <td>NebraskaLand Bank</td>\n",
       "      <td>NORTH PLATTE</td>\n",
       "      <td>NE</td>\n",
       "      <td>Unanswered</td>\n",
       "      <td>Unanswered</td>\n",
       "      <td>Y</td>\n",
       "      <td>150789.04</td>\n",
       "      <td>11/03/2020</td>\n",
       "    </tr>\n",
       "    <tr>\n",
       "      <th>968529</th>\n",
       "      <td>7996438405</td>\n",
       "      <td>02/12/2021</td>\n",
       "      <td>897</td>\n",
       "      <td>PPS</td>\n",
       "      <td>ELECTRICAL SYSTEMS OF WYOMING INC</td>\n",
       "      <td>1105 Adon Rd</td>\n",
       "      <td>Rozet</td>\n",
       "      <td>WY</td>\n",
       "      <td>82727-8465</td>\n",
       "      <td>09/15/2021</td>\n",
       "      <td>...</td>\n",
       "      <td>Subchapter S Corporation</td>\n",
       "      <td>77189</td>\n",
       "      <td>First National Bank of Gillette</td>\n",
       "      <td>GILLETTE</td>\n",
       "      <td>WY</td>\n",
       "      <td>Female Owned</td>\n",
       "      <td>Unanswered</td>\n",
       "      <td>NaN</td>\n",
       "      <td>150743.84</td>\n",
       "      <td>08/17/2021</td>\n",
       "    </tr>\n",
       "    <tr>\n",
       "      <th>968530</th>\n",
       "      <td>9054647103</td>\n",
       "      <td>04/15/2020</td>\n",
       "      <td>897</td>\n",
       "      <td>PPP</td>\n",
       "      <td>EDEN LIFE CARE</td>\n",
       "      <td>30 N. Gould Street Suite 4000</td>\n",
       "      <td>SHERIDAN</td>\n",
       "      <td>WY</td>\n",
       "      <td>82801</td>\n",
       "      <td>03/08/2022</td>\n",
       "      <td>...</td>\n",
       "      <td>Corporation</td>\n",
       "      <td>25901</td>\n",
       "      <td>Small Business Bank</td>\n",
       "      <td>LENEXA</td>\n",
       "      <td>KS</td>\n",
       "      <td>Unanswered</td>\n",
       "      <td>Unanswered</td>\n",
       "      <td>NaN</td>\n",
       "      <td>152820.83</td>\n",
       "      <td>02/23/2022</td>\n",
       "    </tr>\n",
       "    <tr>\n",
       "      <th>968531</th>\n",
       "      <td>9184687004</td>\n",
       "      <td>04/09/2020</td>\n",
       "      <td>897</td>\n",
       "      <td>PPP</td>\n",
       "      <td>S &amp; S JOHNSON ENTERPRISES INC</td>\n",
       "      <td>7342 Granite Loop Rd</td>\n",
       "      <td>TETON VILLAGE</td>\n",
       "      <td>WY</td>\n",
       "      <td>83025-0550</td>\n",
       "      <td>10/22/2021</td>\n",
       "      <td>...</td>\n",
       "      <td>Subchapter S Corporation</td>\n",
       "      <td>77193</td>\n",
       "      <td>Bank of Jackson Hole</td>\n",
       "      <td>JACKSON</td>\n",
       "      <td>WY</td>\n",
       "      <td>Unanswered</td>\n",
       "      <td>Unanswered</td>\n",
       "      <td>NaN</td>\n",
       "      <td>152162.50</td>\n",
       "      <td>09/22/2021</td>\n",
       "    </tr>\n",
       "  </tbody>\n",
       "</table>\n",
       "<p>5 rows × 53 columns</p>\n",
       "</div>"
      ],
      "text/plain": [
       "        LoanNumber DateApproved  SBAOfficeCode ProcessingMethod  \\\n",
       "968527  4395967002   04/03/2020            897              PPP   \n",
       "968528  6985647108   04/14/2020            897              PPP   \n",
       "968529  7996438405   02/12/2021            897              PPS   \n",
       "968530  9054647103   04/15/2020            897              PPP   \n",
       "968531  9184687004   04/09/2020            897              PPP   \n",
       "\n",
       "                                             BorrowerName  \\\n",
       "968527                           ROY E PAULSON, JR., P.C.   \n",
       "968528  SWEETWATER COUNTY CHILD DEVELOPMENTAL CENTER, ...   \n",
       "968529                  ELECTRICAL SYSTEMS OF WYOMING INC   \n",
       "968530                                     EDEN LIFE CARE   \n",
       "968531                      S & S JOHNSON ENTERPRISES INC   \n",
       "\n",
       "                      BorrowerAddress   BorrowerCity BorrowerState  \\\n",
       "968527                 102 N. Kenwood         CASPER            WY   \n",
       "968528          1715 HITCHING POST DR    GREEN RIVER            WY   \n",
       "968529                   1105 Adon Rd          Rozet            WY   \n",
       "968530  30 N. Gould Street Suite 4000       SHERIDAN            WY   \n",
       "968531           7342 Granite Loop Rd  TETON VILLAGE            WY   \n",
       "\n",
       "       BorrowerZip LoanStatusDate  ...                 BusinessType  \\\n",
       "968527  82601-2724     01/13/2021  ...                  Corporation   \n",
       "968528  82935-5783     12/08/2020  ...  Non-Profit Childcare Center   \n",
       "968529  82727-8465     09/15/2021  ...     Subchapter S Corporation   \n",
       "968530       82801     03/08/2022  ...                  Corporation   \n",
       "968531  83025-0550     10/22/2021  ...     Subchapter S Corporation   \n",
       "\n",
       "        OriginatingLenderLocationID                OriginatingLender  \\\n",
       "968527                        42366               Platte Valley Bank   \n",
       "968528                       122813                NebraskaLand Bank   \n",
       "968529                        77189  First National Bank of Gillette   \n",
       "968530                        25901              Small Business Bank   \n",
       "968531                        77193             Bank of Jackson Hole   \n",
       "\n",
       "        OriginatingLenderCity  OriginatingLenderState        Gender  \\\n",
       "968527             TORRINGTON                      WY    Male Owned   \n",
       "968528           NORTH PLATTE                      NE    Unanswered   \n",
       "968529               GILLETTE                      WY  Female Owned   \n",
       "968530                 LENEXA                      KS    Unanswered   \n",
       "968531                JACKSON                      WY    Unanswered   \n",
       "\n",
       "            Veteran  NonProfit ForgivenessAmount ForgivenessDate  \n",
       "968527  Non-Veteran        NaN         151037.50      12/09/2020  \n",
       "968528   Unanswered          Y         150789.04      11/03/2020  \n",
       "968529   Unanswered        NaN         150743.84      08/17/2021  \n",
       "968530   Unanswered        NaN         152820.83      02/23/2022  \n",
       "968531   Unanswered        NaN         152162.50      09/22/2021  \n",
       "\n",
       "[5 rows x 53 columns]"
      ]
     },
     "execution_count": 6,
     "metadata": {},
     "output_type": "execute_result"
    }
   ],
   "source": [
    "# Tail of the Dataframe\n",
    "ppp_df.tail()"
   ]
  },
  {
   "cell_type": "code",
   "execution_count": 7,
   "id": "8ca7c4f2",
   "metadata": {
    "execution": {
     "iopub.execute_input": "2024-12-21T10:55:02.934550Z",
     "iopub.status.busy": "2024-12-21T10:55:02.934144Z",
     "iopub.status.idle": "2024-12-21T10:55:04.600595Z",
     "shell.execute_reply": "2024-12-21T10:55:04.599545Z"
    },
    "papermill": {
     "duration": 1.680264,
     "end_time": "2024-12-21T10:55:04.603721",
     "exception": false,
     "start_time": "2024-12-21T10:55:02.923457",
     "status": "completed"
    },
    "tags": []
   },
   "outputs": [
    {
     "name": "stdout",
     "output_type": "stream",
     "text": [
      "<class 'pandas.core.frame.DataFrame'>\n",
      "RangeIndex: 968532 entries, 0 to 968531\n",
      "Data columns (total 53 columns):\n",
      " #   Column                       Non-Null Count   Dtype  \n",
      "---  ------                       --------------   -----  \n",
      " 0   LoanNumber                   968532 non-null  int64  \n",
      " 1   DateApproved                 968532 non-null  object \n",
      " 2   SBAOfficeCode                968532 non-null  int64  \n",
      " 3   ProcessingMethod             968532 non-null  object \n",
      " 4   BorrowerName                 968528 non-null  object \n",
      " 5   BorrowerAddress              968518 non-null  object \n",
      " 6   BorrowerCity                 968520 non-null  object \n",
      " 7   BorrowerState                968519 non-null  object \n",
      " 8   BorrowerZip                  968519 non-null  object \n",
      " 9   LoanStatusDate               835016 non-null  object \n",
      " 10  LoanStatus                   968532 non-null  object \n",
      " 11  Term                         968532 non-null  int64  \n",
      " 12  SBAGuarantyPercentage        968532 non-null  int64  \n",
      " 13  InitialApprovalAmount        968532 non-null  float64\n",
      " 14  CurrentApprovalAmount        968532 non-null  float64\n",
      " 15  UndisbursedAmount            968437 non-null  float64\n",
      " 16  FranchiseName                35405 non-null   object \n",
      " 17  ServicingLenderLocationID    968532 non-null  int64  \n",
      " 18  ServicingLenderName          968532 non-null  object \n",
      " 19  ServicingLenderAddress       968532 non-null  object \n",
      " 20  ServicingLenderCity          968532 non-null  object \n",
      " 21  ServicingLenderState         968532 non-null  object \n",
      " 22  ServicingLenderZip           968532 non-null  object \n",
      " 23  RuralUrbanIndicator          968532 non-null  object \n",
      " 24  HubzoneIndicator             968532 non-null  object \n",
      " 25  LMIIndicator                 968532 non-null  object \n",
      " 26  BusinessAgeDescription       968531 non-null  object \n",
      " 27  ProjectCity                  968519 non-null  object \n",
      " 28  ProjectCountyName            968475 non-null  object \n",
      " 29  ProjectState                 968523 non-null  object \n",
      " 30  ProjectZip                   968518 non-null  object \n",
      " 31  CD                           968486 non-null  object \n",
      " 32  JobsReported                 968531 non-null  float64\n",
      " 33  NAICSCode                    961903 non-null  float64\n",
      " 34  Race                         968532 non-null  object \n",
      " 35  Ethnicity                    968532 non-null  object \n",
      " 36  UTILITIES_PROCEED            339459 non-null  float64\n",
      " 37  PAYROLL_PROCEED              966707 non-null  float64\n",
      " 38  MORTGAGE_INTEREST_PROCEED    46420 non-null   float64\n",
      " 39  RENT_PROCEED                 99619 non-null   float64\n",
      " 40  REFINANCE_EIDL_PROCEED       23127 non-null   float64\n",
      " 41  HEALTH_CARE_PROCEED          57548 non-null   float64\n",
      " 42  DEBT_INTEREST_PROCEED        31926 non-null   float64\n",
      " 43  BusinessType                 967810 non-null  object \n",
      " 44  OriginatingLenderLocationID  968532 non-null  int64  \n",
      " 45  OriginatingLender            968532 non-null  object \n",
      " 46  OriginatingLenderCity        968532 non-null  object \n",
      " 47  OriginatingLenderState       968532 non-null  object \n",
      " 48  Gender                       968532 non-null  object \n",
      " 49  Veteran                      968532 non-null  object \n",
      " 50  NonProfit                    59146 non-null   object \n",
      " 51  ForgivenessAmount            874822 non-null  float64\n",
      " 52  ForgivenessDate              874822 non-null  object \n",
      "dtypes: float64(13), int64(6), object(34)\n",
      "memory usage: 391.6+ MB\n"
     ]
    }
   ],
   "source": [
    "# Overview \n",
    "ppp_df.info()"
   ]
  },
  {
   "cell_type": "code",
   "execution_count": 8,
   "id": "686b168b",
   "metadata": {
    "execution": {
     "iopub.execute_input": "2024-12-21T10:55:04.625316Z",
     "iopub.status.busy": "2024-12-21T10:55:04.624931Z",
     "iopub.status.idle": "2024-12-21T10:55:05.364600Z",
     "shell.execute_reply": "2024-12-21T10:55:05.363577Z"
    },
    "papermill": {
     "duration": 0.752728,
     "end_time": "2024-12-21T10:55:05.366744",
     "exception": false,
     "start_time": "2024-12-21T10:55:04.614016",
     "status": "completed"
    },
    "tags": []
   },
   "outputs": [
    {
     "name": "stdout",
     "output_type": "stream",
     "text": [
      "<class 'pandas.core.frame.DataFrame'>\n",
      "RangeIndex: 968532 entries, 0 to 968531\n",
      "Data columns (total 19 columns):\n",
      " #   Column                  Non-Null Count   Dtype  \n",
      "---  ------                  --------------   -----  \n",
      " 0   LoanNumber              968532 non-null  int64  \n",
      " 1   DateApproved            968532 non-null  object \n",
      " 2   ProcessingMethod        968532 non-null  object \n",
      " 3   BorrowerName            968528 non-null  object \n",
      " 4   BorrowerState           968519 non-null  object \n",
      " 5   LoanStatus              968532 non-null  object \n",
      " 6   Term                    968532 non-null  int64  \n",
      " 7   InitialApprovalAmount   968532 non-null  float64\n",
      " 8   CurrentApprovalAmount   968532 non-null  float64\n",
      " 9   ServicingLenderName     968532 non-null  object \n",
      " 10  RuralUrbanIndicator     968532 non-null  object \n",
      " 11  HubzoneIndicator        968532 non-null  object \n",
      " 12  BusinessAgeDescription  968531 non-null  object \n",
      " 13  JobsReported            968531 non-null  float64\n",
      " 14  PAYROLL_PROCEED         966707 non-null  float64\n",
      " 15  BusinessType            967810 non-null  object \n",
      " 16  OriginatingLender       968532 non-null  object \n",
      " 17  ForgivenessAmount       874822 non-null  float64\n",
      " 18  ForgivenessDate         874822 non-null  object \n",
      "dtypes: float64(5), int64(2), object(12)\n",
      "memory usage: 140.4+ MB\n"
     ]
    }
   ],
   "source": [
    "# Now, I will drop the columns from this dataframes which are biased, \n",
    "# having many null/NaN/NA values and data that are not relevant for this analysis.\n",
    "# I will use the drop function using the index provided above in info()\n",
    "ppp_df.drop(ppp_df.columns[[2, 5, 6, 8, 9, 12, 15, 16, 17, 19, 20, 21, 22, 25, 27, 28, 29, 30, 31, 33, 34, \n",
    "                            35, 36, 38, 39, 40, 41, 42, 44, 46, 47, 48, 49, 50]], axis = 1, inplace = True)\n",
    "\n",
    "# Viewing to confirm .\n",
    "ppp_df.info()"
   ]
  },
  {
   "cell_type": "code",
   "execution_count": 9,
   "id": "6ced619c",
   "metadata": {
    "execution": {
     "iopub.execute_input": "2024-12-21T10:55:05.388048Z",
     "iopub.status.busy": "2024-12-21T10:55:05.387651Z",
     "iopub.status.idle": "2024-12-21T10:55:05.409255Z",
     "shell.execute_reply": "2024-12-21T10:55:05.408170Z"
    },
    "papermill": {
     "duration": 0.034696,
     "end_time": "2024-12-21T10:55:05.411363",
     "exception": false,
     "start_time": "2024-12-21T10:55:05.376667",
     "status": "completed"
    },
    "tags": []
   },
   "outputs": [
    {
     "data": {
      "text/html": [
       "<div>\n",
       "<style scoped>\n",
       "    .dataframe tbody tr th:only-of-type {\n",
       "        vertical-align: middle;\n",
       "    }\n",
       "\n",
       "    .dataframe tbody tr th {\n",
       "        vertical-align: top;\n",
       "    }\n",
       "\n",
       "    .dataframe thead th {\n",
       "        text-align: right;\n",
       "    }\n",
       "</style>\n",
       "<table border=\"1\" class=\"dataframe\">\n",
       "  <thead>\n",
       "    <tr style=\"text-align: right;\">\n",
       "      <th></th>\n",
       "      <th>LoanNumber</th>\n",
       "      <th>DateApproved</th>\n",
       "      <th>ProcessingMethod</th>\n",
       "      <th>BorrowerName</th>\n",
       "      <th>BorrowerState</th>\n",
       "      <th>LoanStatus</th>\n",
       "      <th>Term</th>\n",
       "      <th>InitialApprovalAmount</th>\n",
       "      <th>CurrentApprovalAmount</th>\n",
       "      <th>ServicingLenderName</th>\n",
       "      <th>RuralUrbanIndicator</th>\n",
       "      <th>HubzoneIndicator</th>\n",
       "      <th>BusinessAgeDescription</th>\n",
       "      <th>JobsReported</th>\n",
       "      <th>PAYROLL_PROCEED</th>\n",
       "      <th>BusinessType</th>\n",
       "      <th>OriginatingLender</th>\n",
       "      <th>ForgivenessAmount</th>\n",
       "      <th>ForgivenessDate</th>\n",
       "    </tr>\n",
       "  </thead>\n",
       "  <tbody>\n",
       "    <tr>\n",
       "      <th>0</th>\n",
       "      <td>9547507704</td>\n",
       "      <td>05/01/2020</td>\n",
       "      <td>PPP</td>\n",
       "      <td>SUMTER COATINGS, INC.</td>\n",
       "      <td>NaN</td>\n",
       "      <td>Paid in Full</td>\n",
       "      <td>24</td>\n",
       "      <td>769358.78</td>\n",
       "      <td>769358.78</td>\n",
       "      <td>Synovus Bank</td>\n",
       "      <td>U</td>\n",
       "      <td>N</td>\n",
       "      <td>Existing or more than 2 years old</td>\n",
       "      <td>62.0</td>\n",
       "      <td>769358.78</td>\n",
       "      <td>Corporation</td>\n",
       "      <td>Synovus Bank</td>\n",
       "      <td>773553.37</td>\n",
       "      <td>11/20/2020</td>\n",
       "    </tr>\n",
       "    <tr>\n",
       "      <th>1</th>\n",
       "      <td>9777677704</td>\n",
       "      <td>05/01/2020</td>\n",
       "      <td>PPP</td>\n",
       "      <td>PLEASANT PLACES, INC.</td>\n",
       "      <td>NaN</td>\n",
       "      <td>Paid in Full</td>\n",
       "      <td>24</td>\n",
       "      <td>736927.79</td>\n",
       "      <td>736927.79</td>\n",
       "      <td>Synovus Bank</td>\n",
       "      <td>U</td>\n",
       "      <td>Y</td>\n",
       "      <td>Existing or more than 2 years old</td>\n",
       "      <td>73.0</td>\n",
       "      <td>736927.79</td>\n",
       "      <td>Sole Proprietorship</td>\n",
       "      <td>Synovus Bank</td>\n",
       "      <td>746336.24</td>\n",
       "      <td>08/12/2021</td>\n",
       "    </tr>\n",
       "    <tr>\n",
       "      <th>2</th>\n",
       "      <td>5791407702</td>\n",
       "      <td>05/01/2020</td>\n",
       "      <td>PPP</td>\n",
       "      <td>BOYER CHILDREN'S CLINIC</td>\n",
       "      <td>NaN</td>\n",
       "      <td>Paid in Full</td>\n",
       "      <td>24</td>\n",
       "      <td>691355.00</td>\n",
       "      <td>691355.00</td>\n",
       "      <td>Bank of America, National Association</td>\n",
       "      <td>U</td>\n",
       "      <td>N</td>\n",
       "      <td>New Business or 2 years or less</td>\n",
       "      <td>75.0</td>\n",
       "      <td>691355.00</td>\n",
       "      <td>Non-Profit Organization</td>\n",
       "      <td>Bank of America, National Association</td>\n",
       "      <td>696677.49</td>\n",
       "      <td>02/10/2021</td>\n",
       "    </tr>\n",
       "    <tr>\n",
       "      <th>3</th>\n",
       "      <td>6223567700</td>\n",
       "      <td>05/01/2020</td>\n",
       "      <td>PPP</td>\n",
       "      <td>KIRTLEY CONSTRUCTION INC</td>\n",
       "      <td>NaN</td>\n",
       "      <td>Paid in Full</td>\n",
       "      <td>24</td>\n",
       "      <td>499871.00</td>\n",
       "      <td>499871.00</td>\n",
       "      <td>Bank of America, National Association</td>\n",
       "      <td>U</td>\n",
       "      <td>N</td>\n",
       "      <td>New Business or 2 years or less</td>\n",
       "      <td>21.0</td>\n",
       "      <td>499871.00</td>\n",
       "      <td>Corporation</td>\n",
       "      <td>Bank of America, National Association</td>\n",
       "      <td>395264.11</td>\n",
       "      <td>09/10/2021</td>\n",
       "    </tr>\n",
       "    <tr>\n",
       "      <th>4</th>\n",
       "      <td>9662437702</td>\n",
       "      <td>05/01/2020</td>\n",
       "      <td>PPP</td>\n",
       "      <td>AERO BOX LLC</td>\n",
       "      <td>NaN</td>\n",
       "      <td>Paid in Full</td>\n",
       "      <td>24</td>\n",
       "      <td>367437.00</td>\n",
       "      <td>367437.00</td>\n",
       "      <td>The Huntington National Bank</td>\n",
       "      <td>U</td>\n",
       "      <td>N</td>\n",
       "      <td>Unanswered</td>\n",
       "      <td>25.0</td>\n",
       "      <td>367437.00</td>\n",
       "      <td>NaN</td>\n",
       "      <td>The Huntington National Bank</td>\n",
       "      <td>370819.35</td>\n",
       "      <td>04/08/2021</td>\n",
       "    </tr>\n",
       "  </tbody>\n",
       "</table>\n",
       "</div>"
      ],
      "text/plain": [
       "   LoanNumber DateApproved ProcessingMethod              BorrowerName  \\\n",
       "0  9547507704   05/01/2020              PPP     SUMTER COATINGS, INC.   \n",
       "1  9777677704   05/01/2020              PPP     PLEASANT PLACES, INC.   \n",
       "2  5791407702   05/01/2020              PPP   BOYER CHILDREN'S CLINIC   \n",
       "3  6223567700   05/01/2020              PPP  KIRTLEY CONSTRUCTION INC   \n",
       "4  9662437702   05/01/2020              PPP              AERO BOX LLC   \n",
       "\n",
       "  BorrowerState    LoanStatus  Term  InitialApprovalAmount  \\\n",
       "0           NaN  Paid in Full    24              769358.78   \n",
       "1           NaN  Paid in Full    24              736927.79   \n",
       "2           NaN  Paid in Full    24              691355.00   \n",
       "3           NaN  Paid in Full    24              499871.00   \n",
       "4           NaN  Paid in Full    24              367437.00   \n",
       "\n",
       "   CurrentApprovalAmount                    ServicingLenderName  \\\n",
       "0              769358.78                           Synovus Bank   \n",
       "1              736927.79                           Synovus Bank   \n",
       "2              691355.00  Bank of America, National Association   \n",
       "3              499871.00  Bank of America, National Association   \n",
       "4              367437.00           The Huntington National Bank   \n",
       "\n",
       "  RuralUrbanIndicator HubzoneIndicator             BusinessAgeDescription  \\\n",
       "0                   U                N  Existing or more than 2 years old   \n",
       "1                   U                Y  Existing or more than 2 years old   \n",
       "2                   U                N    New Business or 2 years or less   \n",
       "3                   U                N    New Business or 2 years or less   \n",
       "4                   U                N                         Unanswered   \n",
       "\n",
       "   JobsReported  PAYROLL_PROCEED             BusinessType  \\\n",
       "0          62.0        769358.78              Corporation   \n",
       "1          73.0        736927.79      Sole Proprietorship   \n",
       "2          75.0        691355.00  Non-Profit Organization   \n",
       "3          21.0        499871.00              Corporation   \n",
       "4          25.0        367437.00                      NaN   \n",
       "\n",
       "                       OriginatingLender  ForgivenessAmount ForgivenessDate  \n",
       "0                           Synovus Bank          773553.37      11/20/2020  \n",
       "1                           Synovus Bank          746336.24      08/12/2021  \n",
       "2  Bank of America, National Association          696677.49      02/10/2021  \n",
       "3  Bank of America, National Association          395264.11      09/10/2021  \n",
       "4           The Huntington National Bank          370819.35      04/08/2021  "
      ]
     },
     "execution_count": 9,
     "metadata": {},
     "output_type": "execute_result"
    }
   ],
   "source": [
    "# Head of the dataframe after droping columns.\n",
    "ppp_df.head()"
   ]
  },
  {
   "cell_type": "code",
   "execution_count": 10,
   "id": "9bb30a76",
   "metadata": {
    "execution": {
     "iopub.execute_input": "2024-12-21T10:55:05.433563Z",
     "iopub.status.busy": "2024-12-21T10:55:05.433153Z",
     "iopub.status.idle": "2024-12-21T10:55:06.601831Z",
     "shell.execute_reply": "2024-12-21T10:55:06.600617Z"
    },
    "papermill": {
     "duration": 1.182189,
     "end_time": "2024-12-21T10:55:06.603980",
     "exception": false,
     "start_time": "2024-12-21T10:55:05.421791",
     "status": "completed"
    },
    "tags": []
   },
   "outputs": [
    {
     "name": "stdout",
     "output_type": "stream",
     "text": [
      "<class 'pandas.core.frame.DataFrame'>\n",
      "RangeIndex: 968532 entries, 0 to 968531\n",
      "Data columns (total 19 columns):\n",
      " #   Column                  Non-Null Count   Dtype         \n",
      "---  ------                  --------------   -----         \n",
      " 0   LoanNumber              968532 non-null  int64         \n",
      " 1   DateApproved            968532 non-null  datetime64[ns]\n",
      " 2   ProcessingMethod        968532 non-null  object        \n",
      " 3   BorrowerName            968528 non-null  object        \n",
      " 4   BorrowerState           968519 non-null  object        \n",
      " 5   LoanStatus              968532 non-null  object        \n",
      " 6   Term                    968532 non-null  int64         \n",
      " 7   InitialApprovalAmount   968532 non-null  float64       \n",
      " 8   CurrentApprovalAmount   968532 non-null  float64       \n",
      " 9   ServicingLenderName     968532 non-null  object        \n",
      " 10  RuralUrbanIndicator     968532 non-null  object        \n",
      " 11  HubzoneIndicator        968532 non-null  object        \n",
      " 12  BusinessAgeDescription  968531 non-null  object        \n",
      " 13  JobsReported            968531 non-null  float64       \n",
      " 14  PAYROLL_PROCEED         966707 non-null  float64       \n",
      " 15  BusinessType            967810 non-null  object        \n",
      " 16  OriginatingLender       968532 non-null  object        \n",
      " 17  ForgivenessAmount       874822 non-null  float64       \n",
      " 18  ForgivenessDate         874822 non-null  datetime64[ns]\n",
      "dtypes: datetime64[ns](2), float64(5), int64(2), object(10)\n",
      "memory usage: 140.4+ MB\n"
     ]
    },
    {
     "data": {
      "text/html": [
       "<div>\n",
       "<style scoped>\n",
       "    .dataframe tbody tr th:only-of-type {\n",
       "        vertical-align: middle;\n",
       "    }\n",
       "\n",
       "    .dataframe tbody tr th {\n",
       "        vertical-align: top;\n",
       "    }\n",
       "\n",
       "    .dataframe thead th {\n",
       "        text-align: right;\n",
       "    }\n",
       "</style>\n",
       "<table border=\"1\" class=\"dataframe\">\n",
       "  <thead>\n",
       "    <tr style=\"text-align: right;\">\n",
       "      <th></th>\n",
       "      <th>LoanNumber</th>\n",
       "      <th>DateApproved</th>\n",
       "      <th>ProcessingMethod</th>\n",
       "      <th>BorrowerName</th>\n",
       "      <th>BorrowerState</th>\n",
       "      <th>LoanStatus</th>\n",
       "      <th>Term</th>\n",
       "      <th>InitialApprovalAmount</th>\n",
       "      <th>CurrentApprovalAmount</th>\n",
       "      <th>ServicingLenderName</th>\n",
       "      <th>RuralUrbanIndicator</th>\n",
       "      <th>HubzoneIndicator</th>\n",
       "      <th>BusinessAgeDescription</th>\n",
       "      <th>JobsReported</th>\n",
       "      <th>PAYROLL_PROCEED</th>\n",
       "      <th>BusinessType</th>\n",
       "      <th>OriginatingLender</th>\n",
       "      <th>ForgivenessAmount</th>\n",
       "      <th>ForgivenessDate</th>\n",
       "    </tr>\n",
       "  </thead>\n",
       "  <tbody>\n",
       "    <tr>\n",
       "      <th>0</th>\n",
       "      <td>9547507704</td>\n",
       "      <td>2020-05-01</td>\n",
       "      <td>PPP</td>\n",
       "      <td>SUMTER COATINGS, INC.</td>\n",
       "      <td>NaN</td>\n",
       "      <td>Paid in Full</td>\n",
       "      <td>24</td>\n",
       "      <td>769358.78</td>\n",
       "      <td>769358.78</td>\n",
       "      <td>Synovus Bank</td>\n",
       "      <td>U</td>\n",
       "      <td>N</td>\n",
       "      <td>Existing or more than 2 years old</td>\n",
       "      <td>62.0</td>\n",
       "      <td>769358.78</td>\n",
       "      <td>Corporation</td>\n",
       "      <td>Synovus Bank</td>\n",
       "      <td>773553.37</td>\n",
       "      <td>2020-11-20</td>\n",
       "    </tr>\n",
       "    <tr>\n",
       "      <th>1</th>\n",
       "      <td>9777677704</td>\n",
       "      <td>2020-05-01</td>\n",
       "      <td>PPP</td>\n",
       "      <td>PLEASANT PLACES, INC.</td>\n",
       "      <td>NaN</td>\n",
       "      <td>Paid in Full</td>\n",
       "      <td>24</td>\n",
       "      <td>736927.79</td>\n",
       "      <td>736927.79</td>\n",
       "      <td>Synovus Bank</td>\n",
       "      <td>U</td>\n",
       "      <td>Y</td>\n",
       "      <td>Existing or more than 2 years old</td>\n",
       "      <td>73.0</td>\n",
       "      <td>736927.79</td>\n",
       "      <td>Sole Proprietorship</td>\n",
       "      <td>Synovus Bank</td>\n",
       "      <td>746336.24</td>\n",
       "      <td>2021-08-12</td>\n",
       "    </tr>\n",
       "    <tr>\n",
       "      <th>2</th>\n",
       "      <td>5791407702</td>\n",
       "      <td>2020-05-01</td>\n",
       "      <td>PPP</td>\n",
       "      <td>BOYER CHILDREN'S CLINIC</td>\n",
       "      <td>NaN</td>\n",
       "      <td>Paid in Full</td>\n",
       "      <td>24</td>\n",
       "      <td>691355.00</td>\n",
       "      <td>691355.00</td>\n",
       "      <td>Bank of America, National Association</td>\n",
       "      <td>U</td>\n",
       "      <td>N</td>\n",
       "      <td>New Business or 2 years or less</td>\n",
       "      <td>75.0</td>\n",
       "      <td>691355.00</td>\n",
       "      <td>Non-Profit Organization</td>\n",
       "      <td>Bank of America, National Association</td>\n",
       "      <td>696677.49</td>\n",
       "      <td>2021-02-10</td>\n",
       "    </tr>\n",
       "    <tr>\n",
       "      <th>3</th>\n",
       "      <td>6223567700</td>\n",
       "      <td>2020-05-01</td>\n",
       "      <td>PPP</td>\n",
       "      <td>KIRTLEY CONSTRUCTION INC</td>\n",
       "      <td>NaN</td>\n",
       "      <td>Paid in Full</td>\n",
       "      <td>24</td>\n",
       "      <td>499871.00</td>\n",
       "      <td>499871.00</td>\n",
       "      <td>Bank of America, National Association</td>\n",
       "      <td>U</td>\n",
       "      <td>N</td>\n",
       "      <td>New Business or 2 years or less</td>\n",
       "      <td>21.0</td>\n",
       "      <td>499871.00</td>\n",
       "      <td>Corporation</td>\n",
       "      <td>Bank of America, National Association</td>\n",
       "      <td>395264.11</td>\n",
       "      <td>2021-09-10</td>\n",
       "    </tr>\n",
       "    <tr>\n",
       "      <th>4</th>\n",
       "      <td>9662437702</td>\n",
       "      <td>2020-05-01</td>\n",
       "      <td>PPP</td>\n",
       "      <td>AERO BOX LLC</td>\n",
       "      <td>NaN</td>\n",
       "      <td>Paid in Full</td>\n",
       "      <td>24</td>\n",
       "      <td>367437.00</td>\n",
       "      <td>367437.00</td>\n",
       "      <td>The Huntington National Bank</td>\n",
       "      <td>U</td>\n",
       "      <td>N</td>\n",
       "      <td>Unanswered</td>\n",
       "      <td>25.0</td>\n",
       "      <td>367437.00</td>\n",
       "      <td>NaN</td>\n",
       "      <td>The Huntington National Bank</td>\n",
       "      <td>370819.35</td>\n",
       "      <td>2021-04-08</td>\n",
       "    </tr>\n",
       "  </tbody>\n",
       "</table>\n",
       "</div>"
      ],
      "text/plain": [
       "   LoanNumber DateApproved ProcessingMethod              BorrowerName  \\\n",
       "0  9547507704   2020-05-01              PPP     SUMTER COATINGS, INC.   \n",
       "1  9777677704   2020-05-01              PPP     PLEASANT PLACES, INC.   \n",
       "2  5791407702   2020-05-01              PPP   BOYER CHILDREN'S CLINIC   \n",
       "3  6223567700   2020-05-01              PPP  KIRTLEY CONSTRUCTION INC   \n",
       "4  9662437702   2020-05-01              PPP              AERO BOX LLC   \n",
       "\n",
       "  BorrowerState    LoanStatus  Term  InitialApprovalAmount  \\\n",
       "0           NaN  Paid in Full    24              769358.78   \n",
       "1           NaN  Paid in Full    24              736927.79   \n",
       "2           NaN  Paid in Full    24              691355.00   \n",
       "3           NaN  Paid in Full    24              499871.00   \n",
       "4           NaN  Paid in Full    24              367437.00   \n",
       "\n",
       "   CurrentApprovalAmount                    ServicingLenderName  \\\n",
       "0              769358.78                           Synovus Bank   \n",
       "1              736927.79                           Synovus Bank   \n",
       "2              691355.00  Bank of America, National Association   \n",
       "3              499871.00  Bank of America, National Association   \n",
       "4              367437.00           The Huntington National Bank   \n",
       "\n",
       "  RuralUrbanIndicator HubzoneIndicator             BusinessAgeDescription  \\\n",
       "0                   U                N  Existing or more than 2 years old   \n",
       "1                   U                Y  Existing or more than 2 years old   \n",
       "2                   U                N    New Business or 2 years or less   \n",
       "3                   U                N    New Business or 2 years or less   \n",
       "4                   U                N                         Unanswered   \n",
       "\n",
       "   JobsReported  PAYROLL_PROCEED             BusinessType  \\\n",
       "0          62.0        769358.78              Corporation   \n",
       "1          73.0        736927.79      Sole Proprietorship   \n",
       "2          75.0        691355.00  Non-Profit Organization   \n",
       "3          21.0        499871.00              Corporation   \n",
       "4          25.0        367437.00                      NaN   \n",
       "\n",
       "                       OriginatingLender  ForgivenessAmount ForgivenessDate  \n",
       "0                           Synovus Bank          773553.37      2020-11-20  \n",
       "1                           Synovus Bank          746336.24      2021-08-12  \n",
       "2  Bank of America, National Association          696677.49      2021-02-10  \n",
       "3  Bank of America, National Association          395264.11      2021-09-10  \n",
       "4           The Huntington National Bank          370819.35      2021-04-08  "
      ]
     },
     "execution_count": 10,
     "metadata": {},
     "output_type": "execute_result"
    }
   ],
   "source": [
    "# changing the datatype of the date columns from object/string(MM/DD/YYYY) to datetime64(YYYY-MM-DD)\n",
    "ppp_df[['DateApproved', 'ForgivenessDate']] = ppp_df[['DateApproved', 'ForgivenessDate']].apply(pd.to_datetime)\n",
    "ppp_df.info()\n",
    "ppp_df.head()"
   ]
  },
  {
   "cell_type": "code",
   "execution_count": 11,
   "id": "c67dff72",
   "metadata": {
    "execution": {
     "iopub.execute_input": "2024-12-21T10:55:06.627238Z",
     "iopub.status.busy": "2024-12-21T10:55:06.626838Z",
     "iopub.status.idle": "2024-12-21T10:55:07.125860Z",
     "shell.execute_reply": "2024-12-21T10:55:07.124913Z"
    },
    "papermill": {
     "duration": 0.513188,
     "end_time": "2024-12-21T10:55:07.128037",
     "exception": false,
     "start_time": "2024-12-21T10:55:06.614849",
     "status": "completed"
    },
    "tags": []
   },
   "outputs": [
    {
     "data": {
      "text/plain": [
       "LoanNumber                    0\n",
       "DateApproved                  0\n",
       "ProcessingMethod              0\n",
       "BorrowerName                  4\n",
       "BorrowerState                13\n",
       "LoanStatus                    0\n",
       "Term                          0\n",
       "InitialApprovalAmount         0\n",
       "CurrentApprovalAmount         0\n",
       "ServicingLenderName           0\n",
       "RuralUrbanIndicator           0\n",
       "HubzoneIndicator              0\n",
       "BusinessAgeDescription        1\n",
       "JobsReported                  1\n",
       "PAYROLL_PROCEED            1825\n",
       "BusinessType                722\n",
       "OriginatingLender             0\n",
       "ForgivenessAmount         93710\n",
       "ForgivenessDate           93710\n",
       "dtype: int64"
      ]
     },
     "execution_count": 11,
     "metadata": {},
     "output_type": "execute_result"
    }
   ],
   "source": [
    "#Now lets check how many columns have NA/NaN/Null values.\n",
    "#caluculating total NA values for all columns\n",
    "ppp_df.isna().sum()"
   ]
  },
  {
   "cell_type": "code",
   "execution_count": 12,
   "id": "e4a133ba",
   "metadata": {
    "execution": {
     "iopub.execute_input": "2024-12-21T10:55:07.152227Z",
     "iopub.status.busy": "2024-12-21T10:55:07.151450Z",
     "iopub.status.idle": "2024-12-21T10:55:13.453293Z",
     "shell.execute_reply": "2024-12-21T10:55:13.452288Z"
    },
    "papermill": {
     "duration": 6.318387,
     "end_time": "2024-12-21T10:55:13.457649",
     "exception": false,
     "start_time": "2024-12-21T10:55:07.139262",
     "status": "completed"
    },
    "tags": []
   },
   "outputs": [
    {
     "data": {
      "text/plain": [
       "<AxesSubplot:>"
      ]
     },
     "execution_count": 12,
     "metadata": {},
     "output_type": "execute_result"
    },
    {
     "data": {
      "image/png": "[encoded data removed]",
      "text/plain": [
       "<Figure size 1800x720 with 2 Axes>"
      ]
     },
     "metadata": {},
     "output_type": "display_data"
    }
   ],
   "source": [
    "#I will be using the matrix method of missingno to view all NA values.\n",
    "msno.matrix(ppp_df)"
   ]
  },
  {
   "cell_type": "markdown",
   "id": "5d2a52c2",
   "metadata": {
    "papermill": {
     "duration": 0.012532,
     "end_time": "2024-12-21T10:55:13.484501",
     "exception": false,
     "start_time": "2024-12-21T10:55:13.471969",
     "status": "completed"
    },
    "tags": []
   },
   "source": [
    "**Note:**\n",
    "* **Two columns have major NA values that are spread across all the rows - ForgivenessAmount and ForgivenessDate.**\n",
    "* **Two columns have minor NA values - PAYROLL_PROCEED and BusinessType.**"
   ]
  },
  {
   "cell_type": "code",
   "execution_count": 13,
   "id": "bfff3f2c",
   "metadata": {
    "execution": {
     "iopub.execute_input": "2024-12-21T10:55:13.511576Z",
     "iopub.status.busy": "2024-12-21T10:55:13.511175Z",
     "iopub.status.idle": "2024-12-21T10:55:14.602273Z",
     "shell.execute_reply": "2024-12-21T10:55:14.601189Z"
    },
    "papermill": {
     "duration": 1.107503,
     "end_time": "2024-12-21T10:55:14.604735",
     "exception": false,
     "start_time": "2024-12-21T10:55:13.497232",
     "status": "completed"
    },
    "tags": []
   },
   "outputs": [
    {
     "name": "stdout",
     "output_type": "stream",
     "text": [
      "<class 'pandas.core.frame.DataFrame'>\n",
      "Int64Index: 872328 entries, 13 to 968531\n",
      "Data columns (total 19 columns):\n",
      " #   Column                  Non-Null Count   Dtype         \n",
      "---  ------                  --------------   -----         \n",
      " 0   LoanNumber              872328 non-null  int64         \n",
      " 1   DateApproved            872328 non-null  datetime64[ns]\n",
      " 2   ProcessingMethod        872328 non-null  object        \n",
      " 3   BorrowerName            872328 non-null  object        \n",
      " 4   BorrowerState           872328 non-null  object        \n",
      " 5   LoanStatus              872328 non-null  object        \n",
      " 6   Term                    872328 non-null  int64         \n",
      " 7   InitialApprovalAmount   872328 non-null  float64       \n",
      " 8   CurrentApprovalAmount   872328 non-null  float64       \n",
      " 9   ServicingLenderName     872328 non-null  object        \n",
      " 10  RuralUrbanIndicator     872328 non-null  object        \n",
      " 11  HubzoneIndicator        872328 non-null  object        \n",
      " 12  BusinessAgeDescription  872328 non-null  object        \n",
      " 13  JobsReported            872328 non-null  float64       \n",
      " 14  PAYROLL_PROCEED         872328 non-null  float64       \n",
      " 15  BusinessType            872328 non-null  object        \n",
      " 16  OriginatingLender       872328 non-null  object        \n",
      " 17  ForgivenessAmount       872328 non-null  float64       \n",
      " 18  ForgivenessDate         872328 non-null  datetime64[ns]\n",
      "dtypes: datetime64[ns](2), float64(5), int64(2), object(10)\n",
      "memory usage: 133.1+ MB\n"
     ]
    }
   ],
   "source": [
    "#droping all na vales in the dataframe\n",
    "ppp_df.dropna(inplace = True)\n",
    "ppp_df.info()\n",
    "\n"
   ]
  },
  {
   "cell_type": "code",
   "execution_count": 14,
   "id": "a9c27552",
   "metadata": {
    "execution": {
     "iopub.execute_input": "2024-12-21T10:55:14.632756Z",
     "iopub.status.busy": "2024-12-21T10:55:14.632176Z",
     "iopub.status.idle": "2024-12-21T10:55:15.090971Z",
     "shell.execute_reply": "2024-12-21T10:55:15.089675Z"
    },
    "papermill": {
     "duration": 0.475356,
     "end_time": "2024-12-21T10:55:15.093317",
     "exception": false,
     "start_time": "2024-12-21T10:55:14.617961",
     "status": "completed"
    },
    "tags": []
   },
   "outputs": [
    {
     "name": "stdout",
     "output_type": "stream",
     "text": [
      "<class 'pandas.core.frame.DataFrame'>\n",
      "RangeIndex: 872328 entries, 0 to 872327\n",
      "Data columns (total 19 columns):\n",
      " #   Column                  Non-Null Count   Dtype         \n",
      "---  ------                  --------------   -----         \n",
      " 0   LoanNumber              872328 non-null  int64         \n",
      " 1   DateApproved            872328 non-null  datetime64[ns]\n",
      " 2   ProcessingMethod        872328 non-null  object        \n",
      " 3   BorrowerName            872328 non-null  object        \n",
      " 4   BorrowerState           872328 non-null  object        \n",
      " 5   LoanStatus              872328 non-null  object        \n",
      " 6   Term                    872328 non-null  int64         \n",
      " 7   InitialApprovalAmount   872328 non-null  float64       \n",
      " 8   CurrentApprovalAmount   872328 non-null  float64       \n",
      " 9   ServicingLenderName     872328 non-null  object        \n",
      " 10  RuralUrbanIndicator     872328 non-null  object        \n",
      " 11  HubzoneIndicator        872328 non-null  object        \n",
      " 12  BusinessAgeDescription  872328 non-null  object        \n",
      " 13  JobsReported            872328 non-null  float64       \n",
      " 14  PAYROLL_PROCEED         872328 non-null  float64       \n",
      " 15  BusinessType            872328 non-null  object        \n",
      " 16  OriginatingLender       872328 non-null  object        \n",
      " 17  ForgivenessAmount       872328 non-null  float64       \n",
      " 18  ForgivenessDate         872328 non-null  datetime64[ns]\n",
      "dtypes: datetime64[ns](2), float64(5), int64(2), object(10)\n",
      "memory usage: 126.5+ MB\n"
     ]
    }
   ],
   "source": [
    "#reseting the index after droping NA values\n",
    "ppp_df.reset_index(inplace = True, drop = True)\n",
    "\n",
    "ppp_df.info()"
   ]
  },
  {
   "cell_type": "code",
   "execution_count": 15,
   "id": "8684c4e1",
   "metadata": {
    "execution": {
     "iopub.execute_input": "2024-12-21T10:55:15.121801Z",
     "iopub.status.busy": "2024-12-21T10:55:15.121306Z",
     "iopub.status.idle": "2024-12-21T10:55:16.703570Z",
     "shell.execute_reply": "2024-12-21T10:55:16.702540Z"
    },
    "papermill": {
     "duration": 1.598951,
     "end_time": "2024-12-21T10:55:16.705744",
     "exception": false,
     "start_time": "2024-12-21T10:55:15.106793",
     "status": "completed"
    },
    "tags": []
   },
   "outputs": [
    {
     "data": {
      "text/plain": [
       "0"
      ]
     },
     "execution_count": 15,
     "metadata": {},
     "output_type": "execute_result"
    }
   ],
   "source": [
    "#Lets check if there are any duplicate values present in the dataframe\n",
    "ppp_df.duplicated().sum()"
   ]
  },
  {
   "cell_type": "markdown",
   "id": "83717f1f",
   "metadata": {
    "papermill": {
     "duration": 0.012702,
     "end_time": "2024-12-21T10:55:16.731658",
     "exception": false,
     "start_time": "2024-12-21T10:55:16.718956",
     "status": "completed"
    },
    "tags": []
   },
   "source": [
    "**Note:**\n",
    "* **0 indicates no duplicate values, this is because the data is been sourced from an official government data website.** "
   ]
  },
  {
   "cell_type": "code",
   "execution_count": 16,
   "id": "b85d4350",
   "metadata": {
    "execution": {
     "iopub.execute_input": "2024-12-21T10:55:16.759792Z",
     "iopub.status.busy": "2024-12-21T10:55:16.758987Z",
     "iopub.status.idle": "2024-12-21T10:55:17.083417Z",
     "shell.execute_reply": "2024-12-21T10:55:17.082280Z"
    },
    "papermill": {
     "duration": 0.341118,
     "end_time": "2024-12-21T10:55:17.085912",
     "exception": false,
     "start_time": "2024-12-21T10:55:16.744794",
     "status": "completed"
    },
    "tags": []
   },
   "outputs": [
    {
     "name": "stdout",
     "output_type": "stream",
     "text": [
      "\u001b[1mProcessingMethod : \u001b[0m\n",
      " ['PPP' 'PPS']\n",
      "\u001b[1mLoanStatus : \u001b[0m\n",
      " ['Paid in Full' 'Exemption 4']\n",
      "\u001b[1mRuralUrbanIndicator : \u001b[0m\n",
      " ['U' 'R']\n",
      "\u001b[1mHubzoneIndicator : \u001b[0m\n",
      " ['Y' 'N']\n",
      "\u001b[1mBusinessAgeDescription : \u001b[0m\n",
      " ['Existing or more than 2 years old' 'Unanswered'\n",
      " 'New Business or 2 years or less' 'Change of Ownership'\n",
      " 'Startup, Loan Funds will Open Business']\n",
      "\u001b[1mBusinessType : \u001b[0m\n",
      " ['Limited  Liability Company(LLC)' 'Non-Profit Organization' 'Corporation'\n",
      " 'Cooperative' 'Subchapter S Corporation' 'Partnership'\n",
      " 'Professional Association' 'Sole Proprietorship'\n",
      " 'Employee Stock Ownership Plan(ESOP)' '501(c)3 – Non Profit'\n",
      " 'Non-Profit Childcare Center' 'Limited Liability Partnership'\n",
      " 'Joint Venture' 'Trust' '501(c)6 – Non Profit Membership'\n",
      " 'Single Member LLC' 'Self-Employed Individuals' 'Independent Contractors'\n",
      " 'Tribal Concerns' 'Tenant in Common' 'Housing Co-op'\n",
      " 'Rollover as Business Start-Ups (ROB' '501(c) – Non Profit except 3,4,6,'\n",
      " 'Qualified Joint-Venture (spouses)' '501(c)19 – Non Profit Veterans']\n"
     ]
    }
   ],
   "source": [
    "#Checking for unique values in columns which are limited to certain data only.\n",
    "column_list = [2, 5, 10, 11, 12, 15]\n",
    "\n",
    "for i in column_list:\n",
    "    print(f'\\033[1m{ppp_df.columns[i]} : \\033[0m\\n {ppp_df[ppp_df.columns[i]].unique()}')\n",
    "# \\033[1m, \\033[0m - to start, end bold"
   ]
  },
  {
   "cell_type": "code",
   "execution_count": 17,
   "id": "d9ec6e5d",
   "metadata": {
    "execution": {
     "iopub.execute_input": "2024-12-21T10:55:17.115266Z",
     "iopub.status.busy": "2024-12-21T10:55:17.114855Z",
     "iopub.status.idle": "2024-12-21T10:55:17.357984Z",
     "shell.execute_reply": "2024-12-21T10:55:17.357010Z"
    },
    "papermill": {
     "duration": 0.260117,
     "end_time": "2024-12-21T10:55:17.360044",
     "exception": false,
     "start_time": "2024-12-21T10:55:17.099927",
     "status": "completed"
    },
    "tags": []
   },
   "outputs": [
    {
     "data": {
      "text/html": [
       "<div>\n",
       "<style scoped>\n",
       "    .dataframe tbody tr th:only-of-type {\n",
       "        vertical-align: middle;\n",
       "    }\n",
       "\n",
       "    .dataframe tbody tr th {\n",
       "        vertical-align: top;\n",
       "    }\n",
       "\n",
       "    .dataframe thead th {\n",
       "        text-align: right;\n",
       "    }\n",
       "</style>\n",
       "<table border=\"1\" class=\"dataframe\">\n",
       "  <thead>\n",
       "    <tr style=\"text-align: right;\">\n",
       "      <th></th>\n",
       "      <th>LoanNumber</th>\n",
       "      <th>Term</th>\n",
       "      <th>InitialApprovalAmount</th>\n",
       "      <th>CurrentApprovalAmount</th>\n",
       "      <th>JobsReported</th>\n",
       "      <th>PAYROLL_PROCEED</th>\n",
       "      <th>ForgivenessAmount</th>\n",
       "    </tr>\n",
       "  </thead>\n",
       "  <tbody>\n",
       "    <tr>\n",
       "      <th>count</th>\n",
       "      <td>8.723280e+05</td>\n",
       "      <td>872328.000000</td>\n",
       "      <td>8.723280e+05</td>\n",
       "      <td>8.723280e+05</td>\n",
       "      <td>872328.000000</td>\n",
       "      <td>8.723280e+05</td>\n",
       "      <td>8.723280e+05</td>\n",
       "    </tr>\n",
       "    <tr>\n",
       "      <th>mean</th>\n",
       "      <td>5.442324e+09</td>\n",
       "      <td>34.641746</td>\n",
       "      <td>5.336410e+05</td>\n",
       "      <td>5.319424e+05</td>\n",
       "      <td>52.152674</td>\n",
       "      <td>5.153394e+05</td>\n",
       "      <td>5.312635e+05</td>\n",
       "    </tr>\n",
       "    <tr>\n",
       "      <th>std</th>\n",
       "      <td>2.543107e+09</td>\n",
       "      <td>16.448831</td>\n",
       "      <td>7.420216e+05</td>\n",
       "      <td>7.356330e+05</td>\n",
       "      <td>67.653568</td>\n",
       "      <td>7.110071e+05</td>\n",
       "      <td>7.355943e+05</td>\n",
       "    </tr>\n",
       "    <tr>\n",
       "      <th>min</th>\n",
       "      <td>1.000007e+09</td>\n",
       "      <td>0.000000</td>\n",
       "      <td>0.000000e+00</td>\n",
       "      <td>1.500000e+05</td>\n",
       "      <td>0.000000</td>\n",
       "      <td>0.000000e+00</td>\n",
       "      <td>1.000000e-02</td>\n",
       "    </tr>\n",
       "    <tr>\n",
       "      <th>25%</th>\n",
       "      <td>3.303048e+09</td>\n",
       "      <td>24.000000</td>\n",
       "      <td>2.005544e+05</td>\n",
       "      <td>2.007300e+05</td>\n",
       "      <td>18.000000</td>\n",
       "      <td>1.955000e+05</td>\n",
       "      <td>2.010546e+05</td>\n",
       "    </tr>\n",
       "    <tr>\n",
       "      <th>50%</th>\n",
       "      <td>5.428977e+09</td>\n",
       "      <td>24.000000</td>\n",
       "      <td>2.965000e+05</td>\n",
       "      <td>2.963210e+05</td>\n",
       "      <td>30.000000</td>\n",
       "      <td>2.876875e+05</td>\n",
       "      <td>2.961443e+05</td>\n",
       "    </tr>\n",
       "    <tr>\n",
       "      <th>75%</th>\n",
       "      <td>7.547627e+09</td>\n",
       "      <td>60.000000</td>\n",
       "      <td>5.439048e+05</td>\n",
       "      <td>5.427320e+05</td>\n",
       "      <td>55.000000</td>\n",
       "      <td>5.270000e+05</td>\n",
       "      <td>5.428267e+05</td>\n",
       "    </tr>\n",
       "    <tr>\n",
       "      <th>max</th>\n",
       "      <td>9.999007e+09</td>\n",
       "      <td>120.000000</td>\n",
       "      <td>1.000000e+07</td>\n",
       "      <td>1.000000e+07</td>\n",
       "      <td>500.000000</td>\n",
       "      <td>1.000000e+07</td>\n",
       "      <td>1.019627e+07</td>\n",
       "    </tr>\n",
       "  </tbody>\n",
       "</table>\n",
       "</div>"
      ],
      "text/plain": [
       "         LoanNumber           Term  InitialApprovalAmount  \\\n",
       "count  8.723280e+05  872328.000000           8.723280e+05   \n",
       "mean   5.442324e+09      34.641746           5.336410e+05   \n",
       "std    2.543107e+09      16.448831           7.420216e+05   \n",
       "min    1.000007e+09       0.000000           0.000000e+00   \n",
       "25%    3.303048e+09      24.000000           2.005544e+05   \n",
       "50%    5.428977e+09      24.000000           2.965000e+05   \n",
       "75%    7.547627e+09      60.000000           5.439048e+05   \n",
       "max    9.999007e+09     120.000000           1.000000e+07   \n",
       "\n",
       "       CurrentApprovalAmount   JobsReported  PAYROLL_PROCEED  \\\n",
       "count           8.723280e+05  872328.000000     8.723280e+05   \n",
       "mean            5.319424e+05      52.152674     5.153394e+05   \n",
       "std             7.356330e+05      67.653568     7.110071e+05   \n",
       "min             1.500000e+05       0.000000     0.000000e+00   \n",
       "25%             2.007300e+05      18.000000     1.955000e+05   \n",
       "50%             2.963210e+05      30.000000     2.876875e+05   \n",
       "75%             5.427320e+05      55.000000     5.270000e+05   \n",
       "max             1.000000e+07     500.000000     1.000000e+07   \n",
       "\n",
       "       ForgivenessAmount  \n",
       "count       8.723280e+05  \n",
       "mean        5.312635e+05  \n",
       "std         7.355943e+05  \n",
       "min         1.000000e-02  \n",
       "25%         2.010546e+05  \n",
       "50%         2.961443e+05  \n",
       "75%         5.428267e+05  \n",
       "max         1.019627e+07  "
      ]
     },
     "execution_count": 17,
     "metadata": {},
     "output_type": "execute_result"
    }
   ],
   "source": [
    "#for numerical values we can confirm with the statiscal property of the data using describe.\n",
    "ppp_df.describe()"
   ]
  },
  {
   "cell_type": "code",
   "execution_count": 18,
   "id": "685e6a9a",
   "metadata": {
    "execution": {
     "iopub.execute_input": "2024-12-21T10:55:17.389773Z",
     "iopub.status.busy": "2024-12-21T10:55:17.388863Z",
     "iopub.status.idle": "2024-12-21T10:55:17.394780Z",
     "shell.execute_reply": "2024-12-21T10:55:17.393956Z"
    },
    "papermill": {
     "duration": 0.022894,
     "end_time": "2024-12-21T10:55:17.396798",
     "exception": false,
     "start_time": "2024-12-21T10:55:17.373904",
     "status": "completed"
    },
    "tags": []
   },
   "outputs": [
    {
     "data": {
      "text/plain": [
       "(872328, 19)"
      ]
     },
     "execution_count": 18,
     "metadata": {},
     "output_type": "execute_result"
    }
   ],
   "source": [
    "ppp_df.shape"
   ]
  },
  {
   "cell_type": "markdown",
   "id": "9318f432",
   "metadata": {
    "papermill": {
     "duration": 0.013502,
     "end_time": "2024-12-21T10:55:17.424188",
     "exception": false,
     "start_time": "2024-12-21T10:55:17.410686",
     "status": "completed"
    },
    "tags": []
   },
   "source": [
    "**Note:**\n",
    "* **All columns have unique values and no extra or wrong values are present in the dataframe**"
   ]
  },
  {
   "cell_type": "code",
   "execution_count": 19,
   "id": "68b8ceac",
   "metadata": {
    "execution": {
     "iopub.execute_input": "2024-12-21T10:55:17.453267Z",
     "iopub.status.busy": "2024-12-21T10:55:17.452859Z",
     "iopub.status.idle": "2024-12-21T10:55:35.317543Z",
     "shell.execute_reply": "2024-12-21T10:55:35.316803Z"
    },
    "papermill": {
     "duration": 17.881897,
     "end_time": "2024-12-21T10:55:35.319842",
     "exception": false,
     "start_time": "2024-12-21T10:55:17.437945",
     "status": "completed"
    },
    "tags": []
   },
   "outputs": [],
   "source": [
    "#exporting the cleaned dataframe in a csv file\n",
    "ppp_df.to_csv('./public_150k_plus_cleaned.csv')"
   ]
  },
  {
   "cell_type": "markdown",
   "id": "648fdc9f",
   "metadata": {
    "papermill": {
     "duration": 0.013356,
     "end_time": "2024-12-21T10:55:35.347166",
     "exception": false,
     "start_time": "2024-12-21T10:55:35.333810",
     "status": "completed"
    },
    "tags": []
   },
   "source": [
    "**Note:**\n",
    "* **Finally completed with Data Wrangling, now onto the next stage of analysis**"
   ]
  },
  {
   "cell_type": "markdown",
   "id": "f7b432b5",
   "metadata": {
    "papermill": {
     "duration": 0.014066,
     "end_time": "2024-12-21T10:55:35.375209",
     "exception": false,
     "start_time": "2024-12-21T10:55:35.361143",
     "status": "completed"
    },
    "tags": []
   },
   "source": [
    "# Exploratory Data Analysis(EDA) and Visualization"
   ]
  },
  {
   "cell_type": "code",
   "execution_count": 20,
   "id": "d33fd11f",
   "metadata": {
    "execution": {
     "iopub.execute_input": "2024-12-21T10:55:35.404861Z",
     "iopub.status.busy": "2024-12-21T10:55:35.404385Z",
     "iopub.status.idle": "2024-12-21T10:55:35.415149Z",
     "shell.execute_reply": "2024-12-21T10:55:35.413872Z"
    },
    "papermill": {
     "duration": 0.027897,
     "end_time": "2024-12-21T10:55:35.417318",
     "exception": false,
     "start_time": "2024-12-21T10:55:35.389421",
     "status": "completed"
    },
    "tags": []
   },
   "outputs": [
    {
     "name": "stdout",
     "output_type": "stream",
     "text": [
      "150000.0 10000000.0\n"
     ]
    }
   ],
   "source": [
    "# Checking the loan amount min and max values\n",
    "print(ppp_df['CurrentApprovalAmount'].min(), ppp_df['CurrentApprovalAmount'].max())"
   ]
  },
  {
   "cell_type": "code",
   "execution_count": 21,
   "id": "8859dd77",
   "metadata": {
    "execution": {
     "iopub.execute_input": "2024-12-21T10:55:35.446992Z",
     "iopub.status.busy": "2024-12-21T10:55:35.446563Z",
     "iopub.status.idle": "2024-12-21T10:55:35.478378Z",
     "shell.execute_reply": "2024-12-21T10:55:35.477336Z"
    },
    "papermill": {
     "duration": 0.049206,
     "end_time": "2024-12-21T10:55:35.480545",
     "exception": false,
     "start_time": "2024-12-21T10:55:35.431339",
     "status": "completed"
    },
    "tags": []
   },
   "outputs": [
    {
     "data": {
      "text/plain": [
       "['More than 5M', '2M - 5M', '1M - 2M', '350K - 1M', 'Less than 350K']\n",
       "Categories (5, object): ['Less than 350K' < '350K - 1M' < '1M - 2M' < '2M - 5M' < 'More than 5M']"
      ]
     },
     "execution_count": 21,
     "metadata": {},
     "output_type": "execute_result"
    }
   ],
   "source": [
    "#min is 150K and max is 10M, so now I will create a category for a range of loan amount.\n",
    "ppp_df['LoanRange'] = pd.cut(ppp_df['CurrentApprovalAmount'], \n",
    "                             bins = [0, 350000, 1000000, 2000000, 5000000, float('inf')], \n",
    "                             labels = ['Less than 350K', '350K - 1M', '1M - 2M', '2M - 5M', 'More than 5M'])\n",
    "ppp_df['LoanRange'].unique()"
   ]
  },
  {
   "cell_type": "code",
   "execution_count": 22,
   "id": "0d686fc9",
   "metadata": {
    "execution": {
     "iopub.execute_input": "2024-12-21T10:55:35.509985Z",
     "iopub.status.busy": "2024-12-21T10:55:35.509219Z",
     "iopub.status.idle": "2024-12-21T10:55:43.708232Z",
     "shell.execute_reply": "2024-12-21T10:55:43.707139Z"
    },
    "papermill": {
     "duration": 8.216156,
     "end_time": "2024-12-21T10:55:43.710502",
     "exception": false,
     "start_time": "2024-12-21T10:55:35.494346",
     "status": "completed"
    },
    "tags": []
   },
   "outputs": [
    {
     "data": {
      "text/plain": [
       "Text(-69.32300000000001, 0.5, 'Loan Range')"
      ]
     },
     "execution_count": 22,
     "metadata": {},
     "output_type": "execute_result"
    },
    {
     "data": {
      "image/png": "[encoded data removed]",
      "text/plain": [
       "<Figure size 1080x720 with 1 Axes>"
      ]
     },
     "metadata": {},
     "output_type": "display_data"
    }
   ],
   "source": [
    "#visualizing the loan category data\n",
    "sns.catplot(data = ppp_df, y = 'LoanRange', kind = 'count', palette = None, height = 10, aspect = 1.5)\n",
    "plt.title('Loan Amount Category Wise Count')\n",
    "plt.ylabel('Loan Range')"
   ]
  },
  {
   "cell_type": "markdown",
   "id": "e3cb67ac",
   "metadata": {
    "papermill": {
     "duration": 0.014852,
     "end_time": "2024-12-21T10:55:43.741449",
     "exception": false,
     "start_time": "2024-12-21T10:55:43.726597",
     "status": "completed"
    },
    "tags": []
   },
   "source": [
    "**Note:**\n",
    "* **The highest loan is less than 350K while the least loan taken is more than 5M**\n",
    "* **Loan amount between 1 - 10M are within the 100K count mark**"
   ]
  },
  {
   "cell_type": "code",
   "execution_count": 23,
   "id": "45bff3c4",
   "metadata": {
    "execution": {
     "iopub.execute_input": "2024-12-21T10:55:43.772595Z",
     "iopub.status.busy": "2024-12-21T10:55:43.772140Z",
     "iopub.status.idle": "2024-12-21T10:55:44.147688Z",
     "shell.execute_reply": "2024-12-21T10:55:44.146583Z"
    },
    "papermill": {
     "duration": 0.393948,
     "end_time": "2024-12-21T10:55:44.150128",
     "exception": false,
     "start_time": "2024-12-21T10:55:43.756180",
     "status": "completed"
    },
    "tags": []
   },
   "outputs": [
    {
     "data": {
      "text/plain": [
       "Text(0.5, 0, 'Jobs Reported')"
      ]
     },
     "execution_count": 23,
     "metadata": {},
     "output_type": "execute_result"
    },
    {
     "data": {
      "image/png": "[encoded data removed]",
      "text/plain": [
       "<Figure size 720x576 with 1 Axes>"
      ]
     },
     "metadata": {},
     "output_type": "display_data"
    }
   ],
   "source": [
    "#Now lets review the employees count\n",
    "sns.histplot(data = ppp_df, x = 'JobsReported', bins = 50, color = 'LightBlue')\n",
    "plt.title('Overall Employee Count')\n",
    "plt.xlabel('Jobs Reported')"
   ]
  },
  {
   "cell_type": "markdown",
   "id": "48b126bd",
   "metadata": {
    "papermill": {
     "duration": 0.014872,
     "end_time": "2024-12-21T10:55:44.180286",
     "exception": false,
     "start_time": "2024-12-21T10:55:44.165414",
     "status": "completed"
    },
    "tags": []
   },
   "source": [
    "**Note:**\n",
    "* **Mojority of the companies reported employees between 10 - 20, after that the trend starts to decline**\n",
    "* **Few companies did report employees between 490 - 500, even though there is a drop of negligible amount after 300 employess reported**"
   ]
  },
  {
   "cell_type": "code",
   "execution_count": 24,
   "id": "ec4e802e",
   "metadata": {
    "execution": {
     "iopub.execute_input": "2024-12-21T10:55:44.213437Z",
     "iopub.status.busy": "2024-12-21T10:55:44.212398Z",
     "iopub.status.idle": "2024-12-21T10:55:44.386386Z",
     "shell.execute_reply": "2024-12-21T10:55:44.385431Z"
    },
    "papermill": {
     "duration": 0.192756,
     "end_time": "2024-12-21T10:55:44.388915",
     "exception": false,
     "start_time": "2024-12-21T10:55:44.196159",
     "status": "completed"
    },
    "tags": []
   },
   "outputs": [
    {
     "data": {
      "text/html": [
       "<div>\n",
       "<style scoped>\n",
       "    .dataframe tbody tr th:only-of-type {\n",
       "        vertical-align: middle;\n",
       "    }\n",
       "\n",
       "    .dataframe tbody tr th {\n",
       "        vertical-align: top;\n",
       "    }\n",
       "\n",
       "    .dataframe thead th {\n",
       "        text-align: right;\n",
       "    }\n",
       "</style>\n",
       "<table border=\"1\" class=\"dataframe\">\n",
       "  <thead>\n",
       "    <tr style=\"text-align: right;\">\n",
       "      <th></th>\n",
       "      <th>LoanRange</th>\n",
       "      <th>LoanNumber</th>\n",
       "      <th>Term</th>\n",
       "      <th>InitialApprovalAmount</th>\n",
       "      <th>CurrentApprovalAmount</th>\n",
       "      <th>JobsReported</th>\n",
       "      <th>PAYROLL_PROCEED</th>\n",
       "      <th>ForgivenessAmount</th>\n",
       "    </tr>\n",
       "  </thead>\n",
       "  <tbody>\n",
       "    <tr>\n",
       "      <th>0</th>\n",
       "      <td>Less than 350K</td>\n",
       "      <td>2769831382360797</td>\n",
       "      <td>17912651</td>\n",
       "      <td>1.148585e+11</td>\n",
       "      <td>1.143505e+11</td>\n",
       "      <td>13678853.0</td>\n",
       "      <td>1.112012e+11</td>\n",
       "      <td>1.143098e+11</td>\n",
       "    </tr>\n",
       "    <tr>\n",
       "      <th>1</th>\n",
       "      <td>350K - 1M</td>\n",
       "      <td>1437898291658268</td>\n",
       "      <td>9148072</td>\n",
       "      <td>1.501403e+11</td>\n",
       "      <td>1.496474e+11</td>\n",
       "      <td>15078304.0</td>\n",
       "      <td>1.453303e+11</td>\n",
       "      <td>1.496563e+11</td>\n",
       "    </tr>\n",
       "    <tr>\n",
       "      <th>2</th>\n",
       "      <td>1M - 2M</td>\n",
       "      <td>385680541741006</td>\n",
       "      <td>2448135</td>\n",
       "      <td>1.007180e+11</td>\n",
       "      <td>1.001418e+11</td>\n",
       "      <td>9214234.0</td>\n",
       "      <td>9.724060e+10</td>\n",
       "      <td>1.001150e+11</td>\n",
       "    </tr>\n",
       "    <tr>\n",
       "      <th>3</th>\n",
       "      <td>2M - 5M</td>\n",
       "      <td>129017443012128</td>\n",
       "      <td>589150</td>\n",
       "      <td>6.869234e+10</td>\n",
       "      <td>6.862740e+10</td>\n",
       "      <td>5707322.0</td>\n",
       "      <td>6.582162e+10</td>\n",
       "      <td>6.833435e+10</td>\n",
       "    </tr>\n",
       "    <tr>\n",
       "      <th>4</th>\n",
       "      <td>More than 5M</td>\n",
       "      <td>25064093070106</td>\n",
       "      <td>120957</td>\n",
       "      <td>3.110074e+10</td>\n",
       "      <td>3.126115e+10</td>\n",
       "      <td>1815525.0</td>\n",
       "      <td>2.995130e+10</td>\n",
       "      <td>3.102054e+10</td>\n",
       "    </tr>\n",
       "  </tbody>\n",
       "</table>\n",
       "</div>"
      ],
      "text/plain": [
       "        LoanRange        LoanNumber      Term  InitialApprovalAmount  \\\n",
       "0  Less than 350K  2769831382360797  17912651           1.148585e+11   \n",
       "1       350K - 1M  1437898291658268   9148072           1.501403e+11   \n",
       "2         1M - 2M   385680541741006   2448135           1.007180e+11   \n",
       "3         2M - 5M   129017443012128    589150           6.869234e+10   \n",
       "4    More than 5M    25064093070106    120957           3.110074e+10   \n",
       "\n",
       "   CurrentApprovalAmount  JobsReported  PAYROLL_PROCEED  ForgivenessAmount  \n",
       "0           1.143505e+11    13678853.0     1.112012e+11       1.143098e+11  \n",
       "1           1.496474e+11    15078304.0     1.453303e+11       1.496563e+11  \n",
       "2           1.001418e+11     9214234.0     9.724060e+10       1.001150e+11  \n",
       "3           6.862740e+10     5707322.0     6.582162e+10       6.833435e+10  \n",
       "4           3.126115e+10     1815525.0     2.995130e+10       3.102054e+10  "
      ]
     },
     "execution_count": 24,
     "metadata": {},
     "output_type": "execute_result"
    }
   ],
   "source": [
    "# Now, lets view both the data together Loan Category vs Employees Count\n",
    "# grouping on Loan Category\n",
    "ppp_gb_df = ppp_df.groupby('LoanRange').sum()\n",
    "ppp_gb_df.reset_index(inplace = True)\n",
    "ppp_gb_df.head()"
   ]
  },
  {
   "cell_type": "code",
   "execution_count": 25,
   "id": "8c1ecc46",
   "metadata": {
    "execution": {
     "iopub.execute_input": "2024-12-21T10:55:44.421343Z",
     "iopub.status.busy": "2024-12-21T10:55:44.420923Z",
     "iopub.status.idle": "2024-12-21T10:55:44.625172Z",
     "shell.execute_reply": "2024-12-21T10:55:44.624229Z"
    },
    "papermill": {
     "duration": 0.222915,
     "end_time": "2024-12-21T10:55:44.627238",
     "exception": false,
     "start_time": "2024-12-21T10:55:44.404323",
     "status": "completed"
    },
    "tags": []
   },
   "outputs": [
    {
     "data": {
      "text/plain": [
       "Text(0.5, 0, 'Loan Range')"
      ]
     },
     "execution_count": 25,
     "metadata": {},
     "output_type": "execute_result"
    },
    {
     "data": {
      "image/png": "[encoded data removed]",
      "text/plain": [
       "<Figure size 720x576 with 1 Axes>"
      ]
     },
     "metadata": {},
     "output_type": "display_data"
    }
   ],
   "source": [
    "#Vizualizing Loan Category with Employees Count\n",
    "sns.barplot(data = ppp_gb_df, x = 'LoanRange', y = 'JobsReported', color = 'darkblue')\n",
    "plt.title('Loan Category with Employee Count')\n",
    "plt.ylabel('Jobs Reported')\n",
    "plt.xlabel('Loan Range')"
   ]
  },
  {
   "cell_type": "markdown",
   "id": "901f5849",
   "metadata": {
    "papermill": {
     "duration": 0.015685,
     "end_time": "2024-12-21T10:55:44.659144",
     "exception": false,
     "start_time": "2024-12-21T10:55:44.643459",
     "status": "completed"
    },
    "tags": []
   },
   "source": [
    "**Note:**\n",
    "* **Highest employee reported are those that have requested for less than 1M loan amount**\n",
    "* **More than 1M Loan amount companies have reported less employees, the higher the amount, the less employees reported.**"
   ]
  },
  {
   "cell_type": "code",
   "execution_count": 26,
   "id": "53208763",
   "metadata": {
    "execution": {
     "iopub.execute_input": "2024-12-21T10:55:44.692671Z",
     "iopub.status.busy": "2024-12-21T10:55:44.692257Z",
     "iopub.status.idle": "2024-12-21T10:55:44.891826Z",
     "shell.execute_reply": "2024-12-21T10:55:44.890781Z"
    },
    "papermill": {
     "duration": 0.219178,
     "end_time": "2024-12-21T10:55:44.894181",
     "exception": false,
     "start_time": "2024-12-21T10:55:44.675003",
     "status": "completed"
    },
    "tags": []
   },
   "outputs": [],
   "source": [
    "# Lets look at the state details of the borrower.\n",
    "ppp_state_df = ppp_df.groupby('BorrowerState').sum()\n",
    "ppp_state_df.reset_index(inplace = True)"
   ]
  },
  {
   "cell_type": "code",
   "execution_count": 27,
   "id": "f05a387b",
   "metadata": {
    "execution": {
     "iopub.execute_input": "2024-12-21T10:55:44.927690Z",
     "iopub.status.busy": "2024-12-21T10:55:44.927261Z",
     "iopub.status.idle": "2024-12-21T10:55:44.942294Z",
     "shell.execute_reply": "2024-12-21T10:55:44.941348Z"
    },
    "papermill": {
     "duration": 0.034024,
     "end_time": "2024-12-21T10:55:44.944260",
     "exception": false,
     "start_time": "2024-12-21T10:55:44.910236",
     "status": "completed"
    },
    "tags": []
   },
   "outputs": [
    {
     "data": {
      "text/html": [
       "<div>\n",
       "<style scoped>\n",
       "    .dataframe tbody tr th:only-of-type {\n",
       "        vertical-align: middle;\n",
       "    }\n",
       "\n",
       "    .dataframe tbody tr th {\n",
       "        vertical-align: top;\n",
       "    }\n",
       "\n",
       "    .dataframe thead th {\n",
       "        text-align: right;\n",
       "    }\n",
       "</style>\n",
       "<table border=\"1\" class=\"dataframe\">\n",
       "  <thead>\n",
       "    <tr style=\"text-align: right;\">\n",
       "      <th></th>\n",
       "      <th>BorrowerState</th>\n",
       "      <th>LoanNumber</th>\n",
       "      <th>Term</th>\n",
       "      <th>InitialApprovalAmount</th>\n",
       "      <th>CurrentApprovalAmount</th>\n",
       "      <th>JobsReported</th>\n",
       "      <th>PAYROLL_PROCEED</th>\n",
       "      <th>ForgivenessAmount</th>\n",
       "    </tr>\n",
       "  </thead>\n",
       "  <tbody>\n",
       "    <tr>\n",
       "      <th>5</th>\n",
       "      <td>CA</td>\n",
       "      <td>600588340187570</td>\n",
       "      <td>3918709</td>\n",
       "      <td>6.018818e+10</td>\n",
       "      <td>5.985390e+10</td>\n",
       "      <td>5703410.0</td>\n",
       "      <td>5.805736e+10</td>\n",
       "      <td>5.960486e+10</td>\n",
       "    </tr>\n",
       "    <tr>\n",
       "      <th>47</th>\n",
       "      <td>TX</td>\n",
       "      <td>376889662671655</td>\n",
       "      <td>2443304</td>\n",
       "      <td>3.681266e+10</td>\n",
       "      <td>3.665855e+10</td>\n",
       "      <td>3693534.0</td>\n",
       "      <td>3.519517e+10</td>\n",
       "      <td>3.657898e+10</td>\n",
       "    </tr>\n",
       "    <tr>\n",
       "      <th>37</th>\n",
       "      <td>NY</td>\n",
       "      <td>332045152604614</td>\n",
       "      <td>2212606</td>\n",
       "      <td>3.565657e+10</td>\n",
       "      <td>3.556278e+10</td>\n",
       "      <td>3353807.0</td>\n",
       "      <td>3.399544e+10</td>\n",
       "      <td>3.537989e+10</td>\n",
       "    </tr>\n",
       "    <tr>\n",
       "      <th>10</th>\n",
       "      <td>FL</td>\n",
       "      <td>274920648550745</td>\n",
       "      <td>1750464</td>\n",
       "      <td>2.472237e+10</td>\n",
       "      <td>2.451766e+10</td>\n",
       "      <td>2655433.0</td>\n",
       "      <td>2.376914e+10</td>\n",
       "      <td>2.447006e+10</td>\n",
       "    </tr>\n",
       "    <tr>\n",
       "      <th>16</th>\n",
       "      <td>IL</td>\n",
       "      <td>198644055168891</td>\n",
       "      <td>1293367</td>\n",
       "      <td>2.118973e+10</td>\n",
       "      <td>2.114872e+10</td>\n",
       "      <td>1940479.0</td>\n",
       "      <td>2.005892e+10</td>\n",
       "      <td>2.114169e+10</td>\n",
       "    </tr>\n",
       "  </tbody>\n",
       "</table>\n",
       "</div>"
      ],
      "text/plain": [
       "   BorrowerState       LoanNumber     Term  InitialApprovalAmount  \\\n",
       "5             CA  600588340187570  3918709           6.018818e+10   \n",
       "47            TX  376889662671655  2443304           3.681266e+10   \n",
       "37            NY  332045152604614  2212606           3.565657e+10   \n",
       "10            FL  274920648550745  1750464           2.472237e+10   \n",
       "16            IL  198644055168891  1293367           2.118973e+10   \n",
       "\n",
       "    CurrentApprovalAmount  JobsReported  PAYROLL_PROCEED  ForgivenessAmount  \n",
       "5            5.985390e+10     5703410.0     5.805736e+10       5.960486e+10  \n",
       "47           3.665855e+10     3693534.0     3.519517e+10       3.657898e+10  \n",
       "37           3.556278e+10     3353807.0     3.399544e+10       3.537989e+10  \n",
       "10           2.451766e+10     2655433.0     2.376914e+10       2.447006e+10  \n",
       "16           2.114872e+10     1940479.0     2.005892e+10       2.114169e+10  "
      ]
     },
     "execution_count": 27,
     "metadata": {},
     "output_type": "execute_result"
    }
   ],
   "source": [
    "# Sorting state wise highest loan borrowers.\n",
    "ppp_state_df.sort_values('CurrentApprovalAmount', ascending = False)[:5]"
   ]
  },
  {
   "cell_type": "code",
   "execution_count": 28,
   "id": "2e494045",
   "metadata": {
    "execution": {
     "iopub.execute_input": "2024-12-21T10:55:44.978618Z",
     "iopub.status.busy": "2024-12-21T10:55:44.978193Z",
     "iopub.status.idle": "2024-12-21T10:55:45.936074Z",
     "shell.execute_reply": "2024-12-21T10:55:45.935115Z"
    },
    "papermill": {
     "duration": 0.977426,
     "end_time": "2024-12-21T10:55:45.938219",
     "exception": false,
     "start_time": "2024-12-21T10:55:44.960793",
     "status": "completed"
    },
    "tags": []
   },
   "outputs": [
    {
     "data": {
      "text/html": [
       "        <script type=\"text/javascript\">\n",
       "        window.PlotlyConfig = {MathJaxConfig: 'local'};\n",
       "        if (window.MathJax && window.MathJax.Hub && window.MathJax.Hub.Config) {window.MathJax.Hub.Config({SVG: {font: \"STIX-Web\"}});}\n",
       "        if (typeof require !== 'undefined') {\n",
       "        require.undef(\"plotly\");\n",
       "        requirejs.config({\n",
       "            paths: {\n",
       "                'plotly': ['https://cdn.plot.ly/plotly-2.12.1.min']\n",
       "            }\n",
       "        });\n",
       "        require(['plotly'], function(Plotly) {\n",
       "            window._Plotly = Plotly;\n",
       "        });\n",
       "        }\n",
       "        </script>\n",
       "        "
      ]
     },
     "metadata": {},
     "output_type": "display_data"
    },
    {
     "data": {
      "text/html": [
       "<div>                            <div id=\"e6136c23-7ba3-435c-81b4-a258a343d0b0\" class=\"plotly-graph-div\" style=\"height:525px; width:100%;\"></div>            <script type=\"text/javascript\">                require([\"plotly\"], function(Plotly) {                    window.PLOTLYENV=window.PLOTLYENV || {};                                    if (document.getElementById(\"e6136c23-7ba3-435c-81b4-a258a343d0b0\")) {                    Plotly.newPlot(                        \"e6136c23-7ba3-435c-81b4-a258a343d0b0\",                        [{\"coloraxis\":\"coloraxis\",\"geo\":\"geo\",\"hovertemplate\":\"State=%{location}<br>Total Loan Amount=%{z}<extra></extra>\",\"locationmode\":\"USA-states\",\"locations\":[\"AK\",\"AL\",\"AR\",\"AS\",\"AZ\",\"CA\",\"CO\",\"CT\",\"DC\",\"DE\",\"FL\",\"GA\",\"GU\",\"HI\",\"IA\",\"ID\",\"IL\",\"IN\",\"KS\",\"KY\",\"LA\",\"MA\",\"MD\",\"ME\",\"MI\",\"MN\",\"MO\",\"MP\",\"MS\",\"MT\",\"NC\",\"ND\",\"NE\",\"NH\",\"NJ\",\"NM\",\"NV\",\"NY\",\"OH\",\"OK\",\"OR\",\"PA\",\"PR\",\"RI\",\"SC\",\"SD\",\"TN\",\"TX\",\"UT\",\"VA\",\"VI\",\"VT\",\"WA\",\"WI\",\"WV\",\"WY\"],\"name\":\"\",\"z\":[1139194563.14,5130262636.01,2657001247.37,3922881.38,7277950895.66,59853904457.36,9167142396.77,6140617226.22,2128815137.41,1371426397.59,24517664981.25,11754062668.11,179260528.07,2358745363.41,4518417061.76,2015901421.89,21148715954.01,8729571653.74,4526214227.37,4689520371.69,6598469537.96,13643815329.72,9112531699.48,1947361945.11,15279644916.3,10749368278.65,8323814305.5,28618515.83,2436731501.64,1376803237.04,10217252136.27,1671601955.19,2957350269.61,2361920623.48,15409598046.44,2015919574.4,3600833858.56,35562782896.03,17145212481.22,4877800907.22,6313877108.96,19688490708.73,1349027226.07,1806486210.92,4688768454.97,1359928360.39,7581996495.1,36658554201.98,4400251812.64,11101740674.45,84793805.24,1061484038.11,11654866407.26,9195331658.87,1540481979.31,916466336.31],\"type\":\"choropleth\"}],                        {\"template\":{\"data\":{\"histogram2dcontour\":[{\"type\":\"histogram2dcontour\",\"colorbar\":{\"outlinewidth\":0,\"ticks\":\"\"},\"colorscale\":[[0.0,\"#0d0887\"],[0.1111111111111111,\"#46039f\"],[0.2222222222222222,\"#7201a8\"],[0.3333333333333333,\"#9c179e\"],[0.4444444444444444,\"#bd3786\"],[0.5555555555555556,\"#d8576b\"],[0.6666666666666666,\"#ed7953\"],[0.7777777777777778,\"#fb9f3a\"],[0.8888888888888888,\"#fdca26\"],[1.0,\"#f0f921\"]]}],\"choropleth\":[{\"type\":\"choropleth\",\"colorbar\":{\"outlinewidth\":0,\"ticks\":\"\"}}],\"histogram2d\":[{\"type\":\"histogram2d\",\"colorbar\":{\"outlinewidth\":0,\"ticks\":\"\"},\"colorscale\":[[0.0,\"#0d0887\"],[0.1111111111111111,\"#46039f\"],[0.2222222222222222,\"#7201a8\"],[0.3333333333333333,\"#9c179e\"],[0.4444444444444444,\"#bd3786\"],[0.5555555555555556,\"#d8576b\"],[0.6666666666666666,\"#ed7953\"],[0.7777777777777778,\"#fb9f3a\"],[0.8888888888888888,\"#fdca26\"],[1.0,\"#f0f921\"]]}],\"heatmap\":[{\"type\":\"heatmap\",\"colorbar\":{\"outlinewidth\":0,\"ticks\":\"\"},\"colorscale\":[[0.0,\"#0d0887\"],[0.1111111111111111,\"#46039f\"],[0.2222222222222222,\"#7201a8\"],[0.3333333333333333,\"#9c179e\"],[0.4444444444444444,\"#bd3786\"],[0.5555555555555556,\"#d8576b\"],[0.6666666666666666,\"#ed7953\"],[0.7777777777777778,\"#fb9f3a\"],[0.8888888888888888,\"#fdca26\"],[1.0,\"#f0f921\"]]}],\"heatmapgl\":[{\"type\":\"heatmapgl\",\"colorbar\":{\"outlinewidth\":0,\"ticks\":\"\"},\"colorscale\":[[0.0,\"#0d0887\"],[0.1111111111111111,\"#46039f\"],[0.2222222222222222,\"#7201a8\"],[0.3333333333333333,\"#9c179e\"],[0.4444444444444444,\"#bd3786\"],[0.5555555555555556,\"#d8576b\"],[0.6666666666666666,\"#ed7953\"],[0.7777777777777778,\"#fb9f3a\"],[0.8888888888888888,\"#fdca26\"],[1.0,\"#f0f921\"]]}],\"contourcarpet\":[{\"type\":\"contourcarpet\",\"colorbar\":{\"outlinewidth\":0,\"ticks\":\"\"}}],\"contour\":[{\"type\":\"contour\",\"colorbar\":{\"outlinewidth\":0,\"ticks\":\"\"},\"colorscale\":[[0.0,\"#0d0887\"],[0.1111111111111111,\"#46039f\"],[0.2222222222222222,\"#7201a8\"],[0.3333333333333333,\"#9c179e\"],[0.4444444444444444,\"#bd3786\"],[0.5555555555555556,\"#d8576b\"],[0.6666666666666666,\"#ed7953\"],[0.7777777777777778,\"#fb9f3a\"],[0.8888888888888888,\"#fdca26\"],[1.0,\"#f0f921\"]]}],\"surface\":[{\"type\":\"surface\",\"colorbar\":{\"outlinewidth\":0,\"ticks\":\"\"},\"colorscale\":[[0.0,\"#0d0887\"],[0.1111111111111111,\"#46039f\"],[0.2222222222222222,\"#7201a8\"],[0.3333333333333333,\"#9c179e\"],[0.4444444444444444,\"#bd3786\"],[0.5555555555555556,\"#d8576b\"],[0.6666666666666666,\"#ed7953\"],[0.7777777777777778,\"#fb9f3a\"],[0.8888888888888888,\"#fdca26\"],[1.0,\"#f0f921\"]]}],\"mesh3d\":[{\"type\":\"mesh3d\",\"colorbar\":{\"outlinewidth\":0,\"ticks\":\"\"}}],\"scatter\":[{\"fillpattern\":{\"fillmode\":\"overlay\",\"size\":10,\"solidity\":0.2},\"type\":\"scatter\"}],\"parcoords\":[{\"type\":\"parcoords\",\"line\":{\"colorbar\":{\"outlinewidth\":0,\"ticks\":\"\"}}}],\"scatterpolargl\":[{\"type\":\"scatterpolargl\",\"marker\":{\"colorbar\":{\"outlinewidth\":0,\"ticks\":\"\"}}}],\"bar\":[{\"error_x\":{\"color\":\"#2a3f5f\"},\"error_y\":{\"color\":\"#2a3f5f\"},\"marker\":{\"line\":{\"color\":\"#E5ECF6\",\"width\":0.5},\"pattern\":{\"fillmode\":\"overlay\",\"size\":10,\"solidity\":0.2}},\"type\":\"bar\"}],\"scattergeo\":[{\"type\":\"scattergeo\",\"marker\":{\"colorbar\":{\"outlinewidth\":0,\"ticks\":\"\"}}}],\"scatterpolar\":[{\"type\":\"scatterpolar\",\"marker\":{\"colorbar\":{\"outlinewidth\":0,\"ticks\":\"\"}}}],\"histogram\":[{\"marker\":{\"pattern\":{\"fillmode\":\"overlay\",\"size\":10,\"solidity\":0.2}},\"type\":\"histogram\"}],\"scattergl\":[{\"type\":\"scattergl\",\"marker\":{\"colorbar\":{\"outlinewidth\":0,\"ticks\":\"\"}}}],\"scatter3d\":[{\"type\":\"scatter3d\",\"line\":{\"colorbar\":{\"outlinewidth\":0,\"ticks\":\"\"}},\"marker\":{\"colorbar\":{\"outlinewidth\":0,\"ticks\":\"\"}}}],\"scattermapbox\":[{\"type\":\"scattermapbox\",\"marker\":{\"colorbar\":{\"outlinewidth\":0,\"ticks\":\"\"}}}],\"scatterternary\":[{\"type\":\"scatterternary\",\"marker\":{\"colorbar\":{\"outlinewidth\":0,\"ticks\":\"\"}}}],\"scattercarpet\":[{\"type\":\"scattercarpet\",\"marker\":{\"colorbar\":{\"outlinewidth\":0,\"ticks\":\"\"}}}],\"carpet\":[{\"aaxis\":{\"endlinecolor\":\"#2a3f5f\",\"gridcolor\":\"white\",\"linecolor\":\"white\",\"minorgridcolor\":\"white\",\"startlinecolor\":\"#2a3f5f\"},\"baxis\":{\"endlinecolor\":\"#2a3f5f\",\"gridcolor\":\"white\",\"linecolor\":\"white\",\"minorgridcolor\":\"white\",\"startlinecolor\":\"#2a3f5f\"},\"type\":\"carpet\"}],\"table\":[{\"cells\":{\"fill\":{\"color\":\"#EBF0F8\"},\"line\":{\"color\":\"white\"}},\"header\":{\"fill\":{\"color\":\"#C8D4E3\"},\"line\":{\"color\":\"white\"}},\"type\":\"table\"}],\"barpolar\":[{\"marker\":{\"line\":{\"color\":\"#E5ECF6\",\"width\":0.5},\"pattern\":{\"fillmode\":\"overlay\",\"size\":10,\"solidity\":0.2}},\"type\":\"barpolar\"}],\"pie\":[{\"automargin\":true,\"type\":\"pie\"}]},\"layout\":{\"autotypenumbers\":\"strict\",\"colorway\":[\"#636efa\",\"#EF553B\",\"#00cc96\",\"#ab63fa\",\"#FFA15A\",\"#19d3f3\",\"#FF6692\",\"#B6E880\",\"#FF97FF\",\"#FECB52\"],\"font\":{\"color\":\"#2a3f5f\"},\"hovermode\":\"closest\",\"hoverlabel\":{\"align\":\"left\"},\"paper_bgcolor\":\"white\",\"plot_bgcolor\":\"#E5ECF6\",\"polar\":{\"bgcolor\":\"#E5ECF6\",\"angularaxis\":{\"gridcolor\":\"white\",\"linecolor\":\"white\",\"ticks\":\"\"},\"radialaxis\":{\"gridcolor\":\"white\",\"linecolor\":\"white\",\"ticks\":\"\"}},\"ternary\":{\"bgcolor\":\"#E5ECF6\",\"aaxis\":{\"gridcolor\":\"white\",\"linecolor\":\"white\",\"ticks\":\"\"},\"baxis\":{\"gridcolor\":\"white\",\"linecolor\":\"white\",\"ticks\":\"\"},\"caxis\":{\"gridcolor\":\"white\",\"linecolor\":\"white\",\"ticks\":\"\"}},\"coloraxis\":{\"colorbar\":{\"outlinewidth\":0,\"ticks\":\"\"}},\"colorscale\":{\"sequential\":[[0.0,\"#0d0887\"],[0.1111111111111111,\"#46039f\"],[0.2222222222222222,\"#7201a8\"],[0.3333333333333333,\"#9c179e\"],[0.4444444444444444,\"#bd3786\"],[0.5555555555555556,\"#d8576b\"],[0.6666666666666666,\"#ed7953\"],[0.7777777777777778,\"#fb9f3a\"],[0.8888888888888888,\"#fdca26\"],[1.0,\"#f0f921\"]],\"sequentialminus\":[[0.0,\"#0d0887\"],[0.1111111111111111,\"#46039f\"],[0.2222222222222222,\"#7201a8\"],[0.3333333333333333,\"#9c179e\"],[0.4444444444444444,\"#bd3786\"],[0.5555555555555556,\"#d8576b\"],[0.6666666666666666,\"#ed7953\"],[0.7777777777777778,\"#fb9f3a\"],[0.8888888888888888,\"#fdca26\"],[1.0,\"#f0f921\"]],\"diverging\":[[0,\"#8e0152\"],[0.1,\"#c51b7d\"],[0.2,\"#de77ae\"],[0.3,\"#f1b6da\"],[0.4,\"#fde0ef\"],[0.5,\"#f7f7f7\"],[0.6,\"#e6f5d0\"],[0.7,\"#b8e186\"],[0.8,\"#7fbc41\"],[0.9,\"#4d9221\"],[1,\"#276419\"]]},\"xaxis\":{\"gridcolor\":\"white\",\"linecolor\":\"white\",\"ticks\":\"\",\"title\":{\"standoff\":15},\"zerolinecolor\":\"white\",\"automargin\":true,\"zerolinewidth\":2},\"yaxis\":{\"gridcolor\":\"white\",\"linecolor\":\"white\",\"ticks\":\"\",\"title\":{\"standoff\":15},\"zerolinecolor\":\"white\",\"automargin\":true,\"zerolinewidth\":2},\"scene\":{\"xaxis\":{\"backgroundcolor\":\"#E5ECF6\",\"gridcolor\":\"white\",\"linecolor\":\"white\",\"showbackground\":true,\"ticks\":\"\",\"zerolinecolor\":\"white\",\"gridwidth\":2},\"yaxis\":{\"backgroundcolor\":\"#E5ECF6\",\"gridcolor\":\"white\",\"linecolor\":\"white\",\"showbackground\":true,\"ticks\":\"\",\"zerolinecolor\":\"white\",\"gridwidth\":2},\"zaxis\":{\"backgroundcolor\":\"#E5ECF6\",\"gridcolor\":\"white\",\"linecolor\":\"white\",\"showbackground\":true,\"ticks\":\"\",\"zerolinecolor\":\"white\",\"gridwidth\":2}},\"shapedefaults\":{\"line\":{\"color\":\"#2a3f5f\"}},\"annotationdefaults\":{\"arrowcolor\":\"#2a3f5f\",\"arrowhead\":0,\"arrowwidth\":1},\"geo\":{\"bgcolor\":\"white\",\"landcolor\":\"#E5ECF6\",\"subunitcolor\":\"white\",\"showland\":true,\"showlakes\":true,\"lakecolor\":\"white\"},\"title\":{\"x\":0.05},\"mapbox\":{\"style\":\"light\"}}},\"geo\":{\"domain\":{\"x\":[0.0,1.0],\"y\":[0.0,1.0]},\"center\":{},\"scope\":\"usa\"},\"coloraxis\":{\"colorbar\":{\"title\":{\"text\":\"Total Loan Amount\"}},\"colorscale\":[[0.0,\"#f0f921\"],[0.1111111111111111,\"#fdca26\"],[0.2222222222222222,\"#fb9f3a\"],[0.3333333333333333,\"#ed7953\"],[0.4444444444444444,\"#d8576b\"],[0.5555555555555556,\"#bd3786\"],[0.6666666666666666,\"#9c179e\"],[0.7777777777777778,\"#7201a8\"],[0.8888888888888888,\"#46039f\"],[1.0,\"#0d0887\"]]},\"legend\":{\"tracegroupgap\":0},\"title\":{\"text\":\"State wise loan amount borrowed\"}},                        {\"responsive\": true}                    ).then(function(){\n",
       "                            \n",
       "var gd = document.getElementById('e6136c23-7ba3-435c-81b4-a258a343d0b0');\n",
       "var x = new MutationObserver(function (mutations, observer) {{\n",
       "        var display = window.getComputedStyle(gd).display;\n",
       "        if (!display || display === 'none') {{\n",
       "            console.log([gd, 'removed!']);\n",
       "            Plotly.purge(gd);\n",
       "            observer.disconnect();\n",
       "        }}\n",
       "}});\n",
       "\n",
       "// Listen for the removal of the full notebook cells\n",
       "var notebookContainer = gd.closest('#notebook-container');\n",
       "if (notebookContainer) {{\n",
       "    x.observe(notebookContainer, {childList: true});\n",
       "}}\n",
       "\n",
       "// Listen for the clearing of the current output cell\n",
       "var outputEl = gd.closest('.output');\n",
       "if (outputEl) {{\n",
       "    x.observe(outputEl, {childList: true});\n",
       "}}\n",
       "\n",
       "                        })                };                });            </script>        </div>"
      ]
     },
     "metadata": {},
     "output_type": "display_data"
    }
   ],
   "source": [
    "# Vizualizing the state data on map plot by plotly.\n",
    "px.choropleth(ppp_state_df, locations = 'BorrowerState', locationmode = 'USA-states', scope = 'usa', \n",
    "              color = 'CurrentApprovalAmount', color_continuous_scale = 'plasma_r',\n",
    "              title = 'State wise loan amount borrowed', labels = {'BorrowerState': 'State', 'CurrentApprovalAmount': 'Total Loan Amount'})"
   ]
  },
  {
   "cell_type": "code",
   "execution_count": 29,
   "id": "de8df726",
   "metadata": {
    "execution": {
     "iopub.execute_input": "2024-12-21T10:55:45.973504Z",
     "iopub.status.busy": "2024-12-21T10:55:45.973028Z",
     "iopub.status.idle": "2024-12-21T10:55:46.168718Z",
     "shell.execute_reply": "2024-12-21T10:55:46.167817Z"
    },
    "papermill": {
     "duration": 0.21557,
     "end_time": "2024-12-21T10:55:46.170873",
     "exception": false,
     "start_time": "2024-12-21T10:55:45.955303",
     "status": "completed"
    },
    "tags": []
   },
   "outputs": [
    {
     "data": {
      "text/plain": [
       "Text(0.5, 0, 'Loan Amount (In 10 Billions)')"
      ]
     },
     "execution_count": 29,
     "metadata": {},
     "output_type": "execute_result"
    },
    {
     "data": {
      "image/png": "[encoded data removed]",
      "text/plain": [
       "<Figure size 720x576 with 1 Axes>"
      ]
     },
     "metadata": {},
     "output_type": "display_data"
    }
   ],
   "source": [
    "#lets view the top 5 states on a bar plot.\n",
    "sns.barplot(data = ppp_state_df, x = 'CurrentApprovalAmount', y = 'BorrowerState', \n",
    "            order = ppp_state_df.sort_values('CurrentApprovalAmount', ascending = False)[:5]['BorrowerState'],\n",
    "           color = 'LightBlue')\n",
    "plt.title('Top 5 States with Highest Loan Amount')\n",
    "plt.xlabel('Loan Amount (In 10 Billions)')"
   ]
  },
  {
   "cell_type": "code",
   "execution_count": 30,
   "id": "f450df25",
   "metadata": {
    "execution": {
     "iopub.execute_input": "2024-12-21T10:55:46.206963Z",
     "iopub.status.busy": "2024-12-21T10:55:46.206546Z",
     "iopub.status.idle": "2024-12-21T10:55:46.835765Z",
     "shell.execute_reply": "2024-12-21T10:55:46.834823Z"
    },
    "papermill": {
     "duration": 0.649821,
     "end_time": "2024-12-21T10:55:46.837906",
     "exception": false,
     "start_time": "2024-12-21T10:55:46.188085",
     "status": "completed"
    },
    "tags": []
   },
   "outputs": [
    {
     "data": {
      "text/plain": [
       "<AxesSubplot:xlabel='count', ylabel='OriginatingLender'>"
      ]
     },
     "execution_count": 30,
     "metadata": {},
     "output_type": "execute_result"
    },
    {
     "data": {
      "image/png": "[encoded data removed]",
      "text/plain": [
       "<Figure size 720x576 with 1 Axes>"
      ]
     },
     "metadata": {},
     "output_type": "display_data"
    }
   ],
   "source": [
    "# Lets check the top Loan Lenders\n",
    "sns.countplot(data = ppp_df, y = 'OriginatingLender', order = ppp_df['OriginatingLender'].value_counts().index[:5], color = 'Green')"
   ]
  },
  {
   "cell_type": "code",
   "execution_count": 31,
   "id": "a1319bce",
   "metadata": {
    "execution": {
     "iopub.execute_input": "2024-12-21T10:55:46.875157Z",
     "iopub.status.busy": "2024-12-21T10:55:46.874751Z",
     "iopub.status.idle": "2024-12-21T10:55:47.680050Z",
     "shell.execute_reply": "2024-12-21T10:55:47.679061Z"
    },
    "papermill": {
     "duration": 0.827116,
     "end_time": "2024-12-21T10:55:47.682855",
     "exception": false,
     "start_time": "2024-12-21T10:55:46.855739",
     "status": "completed"
    },
    "tags": []
   },
   "outputs": [
    {
     "data": {
      "text/plain": [
       "<AxesSubplot:xlabel='count', ylabel='BusinessType'>"
      ]
     },
     "execution_count": 31,
     "metadata": {},
     "output_type": "execute_result"
    },
    {
     "data": {
      "image/png": "[encoded data removed]",
      "text/plain": [
       "<Figure size 720x576 with 1 Axes>"
      ]
     },
     "metadata": {},
     "output_type": "display_data"
    }
   ],
   "source": [
    "# Lets look at which business type has borrowed Loan?\n",
    "sns.countplot(data = ppp_df, y = 'BusinessType', order = ppp_df['BusinessType'].value_counts().index)"
   ]
  },
  {
   "cell_type": "markdown",
   "id": "d8efbd42",
   "metadata": {
    "papermill": {
     "duration": 0.019664,
     "end_time": "2024-12-21T10:55:47.722125",
     "exception": false,
     "start_time": "2024-12-21T10:55:47.702461",
     "status": "completed"
    },
    "tags": []
   },
   "source": [
    "**Note:**\n",
    "\n",
    "**Only the top 4 have a good amount of data for futher analysis**"
   ]
  },
  {
   "cell_type": "code",
   "execution_count": 32,
   "id": "74a1e685",
   "metadata": {
    "execution": {
     "iopub.execute_input": "2024-12-21T10:55:47.763260Z",
     "iopub.status.busy": "2024-12-21T10:55:47.762218Z",
     "iopub.status.idle": "2024-12-21T10:55:49.602463Z",
     "shell.execute_reply": "2024-12-21T10:55:49.601579Z"
    },
    "papermill": {
     "duration": 1.863011,
     "end_time": "2024-12-21T10:55:49.604749",
     "exception": false,
     "start_time": "2024-12-21T10:55:47.741738",
     "status": "completed"
    },
    "tags": []
   },
   "outputs": [],
   "source": [
    "#filtering as per the above note\n",
    "ppp_business_df = ppp_df[ppp_df['BusinessType'].isin(['Corporation', 'Limited  Liability Company(LLC)','Subchapter S Corporation', 'Non-Profit Organization'])]\n",
    "\n",
    "# Sorting as per the date approved\n",
    "ppp_business_df = ppp_business_df.sort_values(['DateApproved']).reset_index(drop = True)\n",
    "\n",
    "# Grouping the data as per approved date and business type on count and cumulative sum aggregate function\n",
    "ppp_biz_count_df = ppp_business_df.groupby(['DateApproved', 'BusinessType']).count().groupby(level = -1).cumsum().reset_index()\n",
    "\n",
    "# Grouping the data as per approved date and business type on sum aggregate function\n",
    "ppp_biz_sum_df = ppp_business_df.groupby(['DateApproved', 'BusinessType']).sum().reset_index()"
   ]
  },
  {
   "cell_type": "code",
   "execution_count": 33,
   "id": "5b8281b9",
   "metadata": {
    "execution": {
     "iopub.execute_input": "2024-12-21T10:55:49.646618Z",
     "iopub.status.busy": "2024-12-21T10:55:49.645587Z",
     "iopub.status.idle": "2024-12-21T10:55:49.666045Z",
     "shell.execute_reply": "2024-12-21T10:55:49.665126Z"
    },
    "papermill": {
     "duration": 0.043453,
     "end_time": "2024-12-21T10:55:49.668282",
     "exception": false,
     "start_time": "2024-12-21T10:55:49.624829",
     "status": "completed"
    },
    "tags": []
   },
   "outputs": [
    {
     "data": {
      "text/html": [
       "<div>\n",
       "<style scoped>\n",
       "    .dataframe tbody tr th:only-of-type {\n",
       "        vertical-align: middle;\n",
       "    }\n",
       "\n",
       "    .dataframe tbody tr th {\n",
       "        vertical-align: top;\n",
       "    }\n",
       "\n",
       "    .dataframe thead th {\n",
       "        text-align: right;\n",
       "    }\n",
       "</style>\n",
       "<table border=\"1\" class=\"dataframe\">\n",
       "  <thead>\n",
       "    <tr style=\"text-align: right;\">\n",
       "      <th></th>\n",
       "      <th>DateApproved</th>\n",
       "      <th>BusinessType</th>\n",
       "      <th>LoanNumber</th>\n",
       "      <th>ProcessingMethod</th>\n",
       "      <th>BorrowerName</th>\n",
       "      <th>BorrowerState</th>\n",
       "      <th>LoanStatus</th>\n",
       "      <th>Term</th>\n",
       "      <th>InitialApprovalAmount</th>\n",
       "      <th>CurrentApprovalAmount</th>\n",
       "      <th>ServicingLenderName</th>\n",
       "      <th>RuralUrbanIndicator</th>\n",
       "      <th>HubzoneIndicator</th>\n",
       "      <th>BusinessAgeDescription</th>\n",
       "      <th>JobsReported</th>\n",
       "      <th>PAYROLL_PROCEED</th>\n",
       "      <th>OriginatingLender</th>\n",
       "      <th>ForgivenessAmount</th>\n",
       "      <th>ForgivenessDate</th>\n",
       "      <th>LoanRange</th>\n",
       "    </tr>\n",
       "  </thead>\n",
       "  <tbody>\n",
       "    <tr>\n",
       "      <th>0</th>\n",
       "      <td>2020-04-03</td>\n",
       "      <td>Corporation</td>\n",
       "      <td>4415</td>\n",
       "      <td>4415</td>\n",
       "      <td>4415</td>\n",
       "      <td>4415</td>\n",
       "      <td>4415</td>\n",
       "      <td>4415</td>\n",
       "      <td>4415</td>\n",
       "      <td>4415</td>\n",
       "      <td>4415</td>\n",
       "      <td>4415</td>\n",
       "      <td>4415</td>\n",
       "      <td>4415</td>\n",
       "      <td>4415</td>\n",
       "      <td>4415</td>\n",
       "      <td>4415</td>\n",
       "      <td>4415</td>\n",
       "      <td>4415</td>\n",
       "      <td>4415</td>\n",
       "    </tr>\n",
       "    <tr>\n",
       "      <th>1</th>\n",
       "      <td>2020-04-03</td>\n",
       "      <td>Limited  Liability Company(LLC)</td>\n",
       "      <td>2454</td>\n",
       "      <td>2454</td>\n",
       "      <td>2454</td>\n",
       "      <td>2454</td>\n",
       "      <td>2454</td>\n",
       "      <td>2454</td>\n",
       "      <td>2454</td>\n",
       "      <td>2454</td>\n",
       "      <td>2454</td>\n",
       "      <td>2454</td>\n",
       "      <td>2454</td>\n",
       "      <td>2454</td>\n",
       "      <td>2454</td>\n",
       "      <td>2454</td>\n",
       "      <td>2454</td>\n",
       "      <td>2454</td>\n",
       "      <td>2454</td>\n",
       "      <td>2454</td>\n",
       "    </tr>\n",
       "    <tr>\n",
       "      <th>2</th>\n",
       "      <td>2020-04-03</td>\n",
       "      <td>Non-Profit Organization</td>\n",
       "      <td>390</td>\n",
       "      <td>390</td>\n",
       "      <td>390</td>\n",
       "      <td>390</td>\n",
       "      <td>390</td>\n",
       "      <td>390</td>\n",
       "      <td>390</td>\n",
       "      <td>390</td>\n",
       "      <td>390</td>\n",
       "      <td>390</td>\n",
       "      <td>390</td>\n",
       "      <td>390</td>\n",
       "      <td>390</td>\n",
       "      <td>390</td>\n",
       "      <td>390</td>\n",
       "      <td>390</td>\n",
       "      <td>390</td>\n",
       "      <td>390</td>\n",
       "    </tr>\n",
       "    <tr>\n",
       "      <th>3</th>\n",
       "      <td>2020-04-03</td>\n",
       "      <td>Subchapter S Corporation</td>\n",
       "      <td>1439</td>\n",
       "      <td>1439</td>\n",
       "      <td>1439</td>\n",
       "      <td>1439</td>\n",
       "      <td>1439</td>\n",
       "      <td>1439</td>\n",
       "      <td>1439</td>\n",
       "      <td>1439</td>\n",
       "      <td>1439</td>\n",
       "      <td>1439</td>\n",
       "      <td>1439</td>\n",
       "      <td>1439</td>\n",
       "      <td>1439</td>\n",
       "      <td>1439</td>\n",
       "      <td>1439</td>\n",
       "      <td>1439</td>\n",
       "      <td>1439</td>\n",
       "      <td>1439</td>\n",
       "    </tr>\n",
       "    <tr>\n",
       "      <th>4</th>\n",
       "      <td>2020-04-04</td>\n",
       "      <td>Corporation</td>\n",
       "      <td>11522</td>\n",
       "      <td>11522</td>\n",
       "      <td>11522</td>\n",
       "      <td>11522</td>\n",
       "      <td>11522</td>\n",
       "      <td>11522</td>\n",
       "      <td>11522</td>\n",
       "      <td>11522</td>\n",
       "      <td>11522</td>\n",
       "      <td>11522</td>\n",
       "      <td>11522</td>\n",
       "      <td>11522</td>\n",
       "      <td>11522</td>\n",
       "      <td>11522</td>\n",
       "      <td>11522</td>\n",
       "      <td>11522</td>\n",
       "      <td>11522</td>\n",
       "      <td>11522</td>\n",
       "    </tr>\n",
       "    <tr>\n",
       "      <th>...</th>\n",
       "      <td>...</td>\n",
       "      <td>...</td>\n",
       "      <td>...</td>\n",
       "      <td>...</td>\n",
       "      <td>...</td>\n",
       "      <td>...</td>\n",
       "      <td>...</td>\n",
       "      <td>...</td>\n",
       "      <td>...</td>\n",
       "      <td>...</td>\n",
       "      <td>...</td>\n",
       "      <td>...</td>\n",
       "      <td>...</td>\n",
       "      <td>...</td>\n",
       "      <td>...</td>\n",
       "      <td>...</td>\n",
       "      <td>...</td>\n",
       "      <td>...</td>\n",
       "      <td>...</td>\n",
       "      <td>...</td>\n",
       "    </tr>\n",
       "    <tr>\n",
       "      <th>928</th>\n",
       "      <td>2021-06-29</td>\n",
       "      <td>Limited  Liability Company(LLC)</td>\n",
       "      <td>228749</td>\n",
       "      <td>228749</td>\n",
       "      <td>228749</td>\n",
       "      <td>228749</td>\n",
       "      <td>228749</td>\n",
       "      <td>228749</td>\n",
       "      <td>228749</td>\n",
       "      <td>228749</td>\n",
       "      <td>228749</td>\n",
       "      <td>228749</td>\n",
       "      <td>228749</td>\n",
       "      <td>228749</td>\n",
       "      <td>228749</td>\n",
       "      <td>228749</td>\n",
       "      <td>228749</td>\n",
       "      <td>228749</td>\n",
       "      <td>228749</td>\n",
       "      <td>228749</td>\n",
       "    </tr>\n",
       "    <tr>\n",
       "      <th>929</th>\n",
       "      <td>2021-06-29</td>\n",
       "      <td>Subchapter S Corporation</td>\n",
       "      <td>162467</td>\n",
       "      <td>162467</td>\n",
       "      <td>162467</td>\n",
       "      <td>162467</td>\n",
       "      <td>162467</td>\n",
       "      <td>162467</td>\n",
       "      <td>162467</td>\n",
       "      <td>162467</td>\n",
       "      <td>162467</td>\n",
       "      <td>162467</td>\n",
       "      <td>162467</td>\n",
       "      <td>162467</td>\n",
       "      <td>162467</td>\n",
       "      <td>162467</td>\n",
       "      <td>162467</td>\n",
       "      <td>162467</td>\n",
       "      <td>162467</td>\n",
       "      <td>162467</td>\n",
       "    </tr>\n",
       "    <tr>\n",
       "      <th>930</th>\n",
       "      <td>2021-06-30</td>\n",
       "      <td>Corporation</td>\n",
       "      <td>378224</td>\n",
       "      <td>378224</td>\n",
       "      <td>378224</td>\n",
       "      <td>378224</td>\n",
       "      <td>378224</td>\n",
       "      <td>378224</td>\n",
       "      <td>378224</td>\n",
       "      <td>378224</td>\n",
       "      <td>378224</td>\n",
       "      <td>378224</td>\n",
       "      <td>378224</td>\n",
       "      <td>378224</td>\n",
       "      <td>378224</td>\n",
       "      <td>378224</td>\n",
       "      <td>378224</td>\n",
       "      <td>378224</td>\n",
       "      <td>378224</td>\n",
       "      <td>378224</td>\n",
       "    </tr>\n",
       "    <tr>\n",
       "      <th>931</th>\n",
       "      <td>2021-06-30</td>\n",
       "      <td>Limited  Liability Company(LLC)</td>\n",
       "      <td>228754</td>\n",
       "      <td>228754</td>\n",
       "      <td>228754</td>\n",
       "      <td>228754</td>\n",
       "      <td>228754</td>\n",
       "      <td>228754</td>\n",
       "      <td>228754</td>\n",
       "      <td>228754</td>\n",
       "      <td>228754</td>\n",
       "      <td>228754</td>\n",
       "      <td>228754</td>\n",
       "      <td>228754</td>\n",
       "      <td>228754</td>\n",
       "      <td>228754</td>\n",
       "      <td>228754</td>\n",
       "      <td>228754</td>\n",
       "      <td>228754</td>\n",
       "      <td>228754</td>\n",
       "    </tr>\n",
       "    <tr>\n",
       "      <th>932</th>\n",
       "      <td>2021-06-30</td>\n",
       "      <td>Non-Profit Organization</td>\n",
       "      <td>51926</td>\n",
       "      <td>51926</td>\n",
       "      <td>51926</td>\n",
       "      <td>51926</td>\n",
       "      <td>51926</td>\n",
       "      <td>51926</td>\n",
       "      <td>51926</td>\n",
       "      <td>51926</td>\n",
       "      <td>51926</td>\n",
       "      <td>51926</td>\n",
       "      <td>51926</td>\n",
       "      <td>51926</td>\n",
       "      <td>51926</td>\n",
       "      <td>51926</td>\n",
       "      <td>51926</td>\n",
       "      <td>51926</td>\n",
       "      <td>51926</td>\n",
       "      <td>51926</td>\n",
       "    </tr>\n",
       "  </tbody>\n",
       "</table>\n",
       "<p>933 rows × 20 columns</p>\n",
       "</div>"
      ],
      "text/plain": [
       "    DateApproved                     BusinessType  LoanNumber  \\\n",
       "0     2020-04-03                      Corporation        4415   \n",
       "1     2020-04-03  Limited  Liability Company(LLC)        2454   \n",
       "2     2020-04-03          Non-Profit Organization         390   \n",
       "3     2020-04-03         Subchapter S Corporation        1439   \n",
       "4     2020-04-04                      Corporation       11522   \n",
       "..           ...                              ...         ...   \n",
       "928   2021-06-29  Limited  Liability Company(LLC)      228749   \n",
       "929   2021-06-29         Subchapter S Corporation      162467   \n",
       "930   2021-06-30                      Corporation      378224   \n",
       "931   2021-06-30  Limited  Liability Company(LLC)      228754   \n",
       "932   2021-06-30          Non-Profit Organization       51926   \n",
       "\n",
       "     ProcessingMethod  BorrowerName  BorrowerState  LoanStatus    Term  \\\n",
       "0                4415          4415           4415        4415    4415   \n",
       "1                2454          2454           2454        2454    2454   \n",
       "2                 390           390            390         390     390   \n",
       "3                1439          1439           1439        1439    1439   \n",
       "4               11522         11522          11522       11522   11522   \n",
       "..                ...           ...            ...         ...     ...   \n",
       "928            228749        228749         228749      228749  228749   \n",
       "929            162467        162467         162467      162467  162467   \n",
       "930            378224        378224         378224      378224  378224   \n",
       "931            228754        228754         228754      228754  228754   \n",
       "932             51926         51926          51926       51926   51926   \n",
       "\n",
       "     InitialApprovalAmount  CurrentApprovalAmount  ServicingLenderName  \\\n",
       "0                     4415                   4415                 4415   \n",
       "1                     2454                   2454                 2454   \n",
       "2                      390                    390                  390   \n",
       "3                     1439                   1439                 1439   \n",
       "4                    11522                  11522                11522   \n",
       "..                     ...                    ...                  ...   \n",
       "928                 228749                 228749               228749   \n",
       "929                 162467                 162467               162467   \n",
       "930                 378224                 378224               378224   \n",
       "931                 228754                 228754               228754   \n",
       "932                  51926                  51926                51926   \n",
       "\n",
       "     RuralUrbanIndicator  HubzoneIndicator  BusinessAgeDescription  \\\n",
       "0                   4415              4415                    4415   \n",
       "1                   2454              2454                    2454   \n",
       "2                    390               390                     390   \n",
       "3                   1439              1439                    1439   \n",
       "4                  11522             11522                   11522   \n",
       "..                   ...               ...                     ...   \n",
       "928               228749            228749                  228749   \n",
       "929               162467            162467                  162467   \n",
       "930               378224            378224                  378224   \n",
       "931               228754            228754                  228754   \n",
       "932                51926             51926                   51926   \n",
       "\n",
       "     JobsReported  PAYROLL_PROCEED  OriginatingLender  ForgivenessAmount  \\\n",
       "0            4415             4415               4415               4415   \n",
       "1            2454             2454               2454               2454   \n",
       "2             390              390                390                390   \n",
       "3            1439             1439               1439               1439   \n",
       "4           11522            11522              11522              11522   \n",
       "..            ...              ...                ...                ...   \n",
       "928        228749           228749             228749             228749   \n",
       "929        162467           162467             162467             162467   \n",
       "930        378224           378224             378224             378224   \n",
       "931        228754           228754             228754             228754   \n",
       "932         51926            51926              51926              51926   \n",
       "\n",
       "     ForgivenessDate  LoanRange  \n",
       "0               4415       4415  \n",
       "1               2454       2454  \n",
       "2                390        390  \n",
       "3               1439       1439  \n",
       "4              11522      11522  \n",
       "..               ...        ...  \n",
       "928           228749     228749  \n",
       "929           162467     162467  \n",
       "930           378224     378224  \n",
       "931           228754     228754  \n",
       "932            51926      51926  \n",
       "\n",
       "[933 rows x 20 columns]"
      ]
     },
     "execution_count": 33,
     "metadata": {},
     "output_type": "execute_result"
    }
   ],
   "source": [
    "ppp_biz_count_df"
   ]
  },
  {
   "cell_type": "code",
   "execution_count": 34,
   "id": "24b2d838",
   "metadata": {
    "execution": {
     "iopub.execute_input": "2024-12-21T10:55:49.710373Z",
     "iopub.status.busy": "2024-12-21T10:55:49.709484Z",
     "iopub.status.idle": "2024-12-21T10:55:49.730777Z",
     "shell.execute_reply": "2024-12-21T10:55:49.729824Z"
    },
    "papermill": {
     "duration": 0.04425,
     "end_time": "2024-12-21T10:55:49.732629",
     "exception": false,
     "start_time": "2024-12-21T10:55:49.688379",
     "status": "completed"
    },
    "tags": []
   },
   "outputs": [
    {
     "data": {
      "text/html": [
       "<div>\n",
       "<style scoped>\n",
       "    .dataframe tbody tr th:only-of-type {\n",
       "        vertical-align: middle;\n",
       "    }\n",
       "\n",
       "    .dataframe tbody tr th {\n",
       "        vertical-align: top;\n",
       "    }\n",
       "\n",
       "    .dataframe thead th {\n",
       "        text-align: right;\n",
       "    }\n",
       "</style>\n",
       "<table border=\"1\" class=\"dataframe\">\n",
       "  <thead>\n",
       "    <tr style=\"text-align: right;\">\n",
       "      <th></th>\n",
       "      <th>DateApproved</th>\n",
       "      <th>BusinessType</th>\n",
       "      <th>LoanNumber</th>\n",
       "      <th>Term</th>\n",
       "      <th>InitialApprovalAmount</th>\n",
       "      <th>CurrentApprovalAmount</th>\n",
       "      <th>JobsReported</th>\n",
       "      <th>PAYROLL_PROCEED</th>\n",
       "      <th>ForgivenessAmount</th>\n",
       "    </tr>\n",
       "  </thead>\n",
       "  <tbody>\n",
       "    <tr>\n",
       "      <th>0</th>\n",
       "      <td>2020-04-03</td>\n",
       "      <td>Corporation</td>\n",
       "      <td>19691147267155</td>\n",
       "      <td>106174</td>\n",
       "      <td>2.905545e+09</td>\n",
       "      <td>2.884835e+09</td>\n",
       "      <td>263319.0</td>\n",
       "      <td>2.729845e+09</td>\n",
       "      <td>2.886727e+09</td>\n",
       "    </tr>\n",
       "    <tr>\n",
       "      <th>1</th>\n",
       "      <td>2020-04-03</td>\n",
       "      <td>Limited  Liability Company(LLC)</td>\n",
       "      <td>10956170290186</td>\n",
       "      <td>58952</td>\n",
       "      <td>1.407160e+09</td>\n",
       "      <td>1.405718e+09</td>\n",
       "      <td>140284.0</td>\n",
       "      <td>1.328044e+09</td>\n",
       "      <td>1.400893e+09</td>\n",
       "    </tr>\n",
       "    <tr>\n",
       "      <th>2</th>\n",
       "      <td>2020-04-03</td>\n",
       "      <td>Non-Profit Organization</td>\n",
       "      <td>1743438081864</td>\n",
       "      <td>9360</td>\n",
       "      <td>3.555586e+08</td>\n",
       "      <td>3.560743e+08</td>\n",
       "      <td>39918.0</td>\n",
       "      <td>3.333939e+08</td>\n",
       "      <td>3.572732e+08</td>\n",
       "    </tr>\n",
       "    <tr>\n",
       "      <th>3</th>\n",
       "      <td>2020-04-03</td>\n",
       "      <td>Subchapter S Corporation</td>\n",
       "      <td>6436775760269</td>\n",
       "      <td>34715</td>\n",
       "      <td>9.413428e+08</td>\n",
       "      <td>9.342935e+08</td>\n",
       "      <td>84931.0</td>\n",
       "      <td>8.795452e+08</td>\n",
       "      <td>9.389455e+08</td>\n",
       "    </tr>\n",
       "    <tr>\n",
       "      <th>4</th>\n",
       "      <td>2020-04-04</td>\n",
       "      <td>Corporation</td>\n",
       "      <td>34320182754372</td>\n",
       "      <td>171505</td>\n",
       "      <td>4.693424e+09</td>\n",
       "      <td>4.659964e+09</td>\n",
       "      <td>404208.0</td>\n",
       "      <td>4.436636e+09</td>\n",
       "      <td>4.667289e+09</td>\n",
       "    </tr>\n",
       "    <tr>\n",
       "      <th>...</th>\n",
       "      <td>...</td>\n",
       "      <td>...</td>\n",
       "      <td>...</td>\n",
       "      <td>...</td>\n",
       "      <td>...</td>\n",
       "      <td>...</td>\n",
       "      <td>...</td>\n",
       "      <td>...</td>\n",
       "      <td>...</td>\n",
       "    </tr>\n",
       "    <tr>\n",
       "      <th>928</th>\n",
       "      <td>2021-06-29</td>\n",
       "      <td>Limited  Liability Company(LLC)</td>\n",
       "      <td>20899923897</td>\n",
       "      <td>1080</td>\n",
       "      <td>1.564547e+07</td>\n",
       "      <td>1.564547e+07</td>\n",
       "      <td>1875.0</td>\n",
       "      <td>1.564543e+07</td>\n",
       "      <td>1.572349e+07</td>\n",
       "    </tr>\n",
       "    <tr>\n",
       "      <th>929</th>\n",
       "      <td>2021-06-29</td>\n",
       "      <td>Subchapter S Corporation</td>\n",
       "      <td>6980954626</td>\n",
       "      <td>360</td>\n",
       "      <td>6.828970e+06</td>\n",
       "      <td>6.828970e+06</td>\n",
       "      <td>491.0</td>\n",
       "      <td>6.828944e+06</td>\n",
       "      <td>6.859345e+06</td>\n",
       "    </tr>\n",
       "    <tr>\n",
       "      <th>930</th>\n",
       "      <td>2021-06-30</td>\n",
       "      <td>Corporation</td>\n",
       "      <td>4723826431</td>\n",
       "      <td>240</td>\n",
       "      <td>3.505392e+06</td>\n",
       "      <td>3.505392e+06</td>\n",
       "      <td>720.0</td>\n",
       "      <td>3.505385e+06</td>\n",
       "      <td>3.518165e+06</td>\n",
       "    </tr>\n",
       "    <tr>\n",
       "      <th>931</th>\n",
       "      <td>2021-06-30</td>\n",
       "      <td>Limited  Liability Company(LLC)</td>\n",
       "      <td>5903805526</td>\n",
       "      <td>300</td>\n",
       "      <td>4.227408e+06</td>\n",
       "      <td>4.227408e+06</td>\n",
       "      <td>928.0</td>\n",
       "      <td>4.227398e+06</td>\n",
       "      <td>4.254382e+06</td>\n",
       "    </tr>\n",
       "    <tr>\n",
       "      <th>932</th>\n",
       "      <td>2021-06-30</td>\n",
       "      <td>Non-Profit Organization</td>\n",
       "      <td>2362488208</td>\n",
       "      <td>120</td>\n",
       "      <td>2.214956e+06</td>\n",
       "      <td>2.214956e+06</td>\n",
       "      <td>200.0</td>\n",
       "      <td>2.214948e+06</td>\n",
       "      <td>2.230307e+06</td>\n",
       "    </tr>\n",
       "  </tbody>\n",
       "</table>\n",
       "<p>933 rows × 9 columns</p>\n",
       "</div>"
      ],
      "text/plain": [
       "    DateApproved                     BusinessType      LoanNumber    Term  \\\n",
       "0     2020-04-03                      Corporation  19691147267155  106174   \n",
       "1     2020-04-03  Limited  Liability Company(LLC)  10956170290186   58952   \n",
       "2     2020-04-03          Non-Profit Organization   1743438081864    9360   \n",
       "3     2020-04-03         Subchapter S Corporation   6436775760269   34715   \n",
       "4     2020-04-04                      Corporation  34320182754372  171505   \n",
       "..           ...                              ...             ...     ...   \n",
       "928   2021-06-29  Limited  Liability Company(LLC)     20899923897    1080   \n",
       "929   2021-06-29         Subchapter S Corporation      6980954626     360   \n",
       "930   2021-06-30                      Corporation      4723826431     240   \n",
       "931   2021-06-30  Limited  Liability Company(LLC)      5903805526     300   \n",
       "932   2021-06-30          Non-Profit Organization      2362488208     120   \n",
       "\n",
       "     InitialApprovalAmount  CurrentApprovalAmount  JobsReported  \\\n",
       "0             2.905545e+09           2.884835e+09      263319.0   \n",
       "1             1.407160e+09           1.405718e+09      140284.0   \n",
       "2             3.555586e+08           3.560743e+08       39918.0   \n",
       "3             9.413428e+08           9.342935e+08       84931.0   \n",
       "4             4.693424e+09           4.659964e+09      404208.0   \n",
       "..                     ...                    ...           ...   \n",
       "928           1.564547e+07           1.564547e+07        1875.0   \n",
       "929           6.828970e+06           6.828970e+06         491.0   \n",
       "930           3.505392e+06           3.505392e+06         720.0   \n",
       "931           4.227408e+06           4.227408e+06         928.0   \n",
       "932           2.214956e+06           2.214956e+06         200.0   \n",
       "\n",
       "     PAYROLL_PROCEED  ForgivenessAmount  \n",
       "0       2.729845e+09       2.886727e+09  \n",
       "1       1.328044e+09       1.400893e+09  \n",
       "2       3.333939e+08       3.572732e+08  \n",
       "3       8.795452e+08       9.389455e+08  \n",
       "4       4.436636e+09       4.667289e+09  \n",
       "..               ...                ...  \n",
       "928     1.564543e+07       1.572349e+07  \n",
       "929     6.828944e+06       6.859345e+06  \n",
       "930     3.505385e+06       3.518165e+06  \n",
       "931     4.227398e+06       4.254382e+06  \n",
       "932     2.214948e+06       2.230307e+06  \n",
       "\n",
       "[933 rows x 9 columns]"
      ]
     },
     "execution_count": 34,
     "metadata": {},
     "output_type": "execute_result"
    }
   ],
   "source": [
    "ppp_biz_sum_df"
   ]
  },
  {
   "cell_type": "code",
   "execution_count": 35,
   "id": "315fe965",
   "metadata": {
    "execution": {
     "iopub.execute_input": "2024-12-21T10:55:49.774873Z",
     "iopub.status.busy": "2024-12-21T10:55:49.774137Z",
     "iopub.status.idle": "2024-12-21T10:55:50.176320Z",
     "shell.execute_reply": "2024-12-21T10:55:50.175389Z"
    },
    "papermill": {
     "duration": 0.426049,
     "end_time": "2024-12-21T10:55:50.178934",
     "exception": false,
     "start_time": "2024-12-21T10:55:49.752885",
     "status": "completed"
    },
    "tags": []
   },
   "outputs": [
    {
     "data": {
      "image/png": "[encoded data removed]",
      "text/plain": [
       "<Figure size 1152x648 with 1 Axes>"
      ]
     },
     "metadata": {},
     "output_type": "display_data"
    }
   ],
   "source": [
    "# which business type among the top 4 were reciving loan on which month at what speed of approval?\n",
    "# We can use any columns in the dataframe because all will have similar data.\n",
    "\n",
    "fig, ax = plt.subplots(figsize = (16, 9))\n",
    "sns.lineplot(ax = ax, data = ppp_biz_count_df, x = 'DateApproved', y = 'CurrentApprovalAmount', hue = 'BusinessType')\n",
    "ax.set(xlabel = 'Month', ylabel = 'Cummulative Loan Approval Count', title = 'Loan Approval Rate As Per Date')\n",
    "ax.xaxis.set_major_locator(mdates.MonthLocator(interval=1))\n",
    "fig.autofmt_xdate()"
   ]
  },
  {
   "cell_type": "markdown",
   "id": "8e18f8b1",
   "metadata": {
    "papermill": {
     "duration": 0.021146,
     "end_time": "2024-12-21T10:55:50.222504",
     "exception": false,
     "start_time": "2024-12-21T10:55:50.201358",
     "status": "completed"
    },
    "tags": []
   },
   "source": [
    "**Note**\n",
    "* **As you can see the one who has got the most approval for loan is corporation during the whole program and the least is Non - Profit Organization**\n",
    "* **Pattern for loan approval is similar for all four, during the first 3 months majority of the companies received approval and later in the year 2021 during Jan to May approval were given to companies steadily**"
   ]
  },
  {
   "cell_type": "code",
   "execution_count": 36,
   "id": "963dd394",
   "metadata": {
    "execution": {
     "iopub.execute_input": "2024-12-21T10:55:50.267225Z",
     "iopub.status.busy": "2024-12-21T10:55:50.266832Z",
     "iopub.status.idle": "2024-12-21T10:55:50.666758Z",
     "shell.execute_reply": "2024-12-21T10:55:50.665822Z"
    },
    "papermill": {
     "duration": 0.426408,
     "end_time": "2024-12-21T10:55:50.670441",
     "exception": false,
     "start_time": "2024-12-21T10:55:50.244033",
     "status": "completed"
    },
    "tags": []
   },
   "outputs": [
    {
     "data": {
      "image/png": "[encoded data removed]",
      "text/plain": [
       "<Figure size 1152x648 with 1 Axes>"
      ]
     },
     "metadata": {},
     "output_type": "display_data"
    }
   ],
   "source": [
    "fig, ax = plt.subplots(figsize = (16, 9))\n",
    "sns.lineplot(ax = ax, data = ppp_biz_sum_df, x = 'DateApproved', y = 'CurrentApprovalAmount', hue = 'BusinessType')\n",
    "ax.set(xlabel = 'Month', ylabel = 'Total Loan Amount(in 10 Billions)', title = 'Total Loan Amount Approved During the Program')\n",
    "ax.xaxis.set_major_locator(mdates.MonthLocator(interval = 1))\n",
    "fig.autofmt_xdate()"
   ]
  },
  {
   "cell_type": "markdown",
   "id": "0e690d19",
   "metadata": {
    "papermill": {
     "duration": 0.022705,
     "end_time": "2024-12-21T10:55:50.717270",
     "exception": false,
     "start_time": "2024-12-21T10:55:50.694565",
     "status": "completed"
    },
    "tags": []
   },
   "source": [
    "**Note:**\n",
    "* **As you can see the loan amount for corporation is the highest and Non profit organization is the lowest as per the approval speed plot above**\n",
    "* **Intially huge amount of loan were approved and borrowed by all the organization, corporation reaching the highest of all, approx 14 Billions, while in the year 2021, no one exceeded 2 Billion.**"
   ]
  }
 ],
 "metadata": {
  "kaggle": {
   "accelerator": "none",
   "dataSources": [
    {
     "datasetId": 2235385,
     "sourceId": 3834930,
     "sourceType": "datasetVersion"
    }
   ],
   "dockerImageVersionId": 30197,
   "isGpuEnabled": false,
   "isInternetEnabled": true,
   "language": "python",
   "sourceType": "notebook"
  },
  "kernelspec": {
   "display_name": "Python 3",
   "language": "python",
   "name": "python3"
  },
  "language_info": {
   "codemirror_mode": {
    "name": "ipython",
    "version": 3
   },
   "file_extension": ".py",
   "mimetype": "text/x-python",
   "name": "python",
   "nbconvert_exporter": "python",
   "pygments_lexer": "ipython3",
   "version": "3.7.12"
  },
  "papermill": {
   "default_parameters": {},
   "duration": 76.141765,
   "end_time": "2024-12-21T10:55:51.964479",
   "environment_variables": {},
   "exception": null,
   "input_path": "__notebook__.ipynb",
   "output_path": "__notebook__.ipynb",
   "parameters": {},
   "start_time": "2024-12-21T10:54:35.822714",
   "version": "2.3.4"
  }
 },
 "nbformat": 4,
 "nbformat_minor": 5
}
